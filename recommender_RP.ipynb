{
 "cells": [
  {
   "cell_type": "code",
   "execution_count": 1,
   "metadata": {},
   "outputs": [],
   "source": [
    "import graphlab as gl\n",
    "import graphlab.aggregate as agg\n",
    "import pandas as pd\n",
    "import numpy as np\n",
    "#import scipy\n",
    "#import matplotlib.pyplot as plt\n",
    "#import seaborn as sns\n",
    "import math as math\n",
    "import pyodbc\n",
    "#import pysftp"
   ]
  },
  {
   "cell_type": "code",
   "execution_count": 2,
   "metadata": {},
   "outputs": [],
   "source": [
    "# Create the connection to the sql server w.r.t to the DNS set\n",
    "conn = pyodbc.connect(\"DSN=sq02\", autocommit=True)\n",
    "\n",
    "# SQL query across the tables\n",
    "sql = \"\"\"\n",
    "\n",
    "-- dataB2B  RP\n",
    "SELECT DISTINCT F.CustomerKey AS customerKey, C.Name AS customerName, I.[Vendor Item No_] AS vendorItemNo,\n",
    "  I.[Vendor No_] AS vendorNo, I.ItemKey as itemKey, I.Description AS itemDescription, I.marchio, I.codMarchio,\n",
    "  I.sport, I.reparto, I.sesso, I.tipo\n",
    "  FROM [3A_DWH].[dbo].[FactSalesOrder] AS F\n",
    "  JOIN [3A_DWH].[dbo].[DimItem] AS I\n",
    "  ON I.ItemKey = F.ItemKey\n",
    "  JOIN [3A_DWH].[dbo].[DimCustomer] AS C\n",
    "  ON C.CustomerKey = F.CustomerKey\n",
    "  join [3A_DWH].[dbo].[FactSalesConditions] as fsc\n",
    "  on C.CustomerKey = fsc.CustomerKey and\n",
    "  i.codMarchio = fsc.[Brand Code]\n",
    "  WHERE C.Name NOT LIKE 'T%' AND YEAR(F.[Order Date]) > 2016 AND I.Company = '3A dei F_lli Antonini S_p_a_' and\n",
    "  F.[BusinessType Code]='B2B'\n",
    "  -- example\n",
    "  --and C.CustomerKey like '%c06423%'\n",
    "  ORDER BY F.CustomerKey, I.[ItemKey];\n",
    "  \n",
    "\"\"\""
   ]
  },
  {
   "cell_type": "code",
   "execution_count": 3,
   "metadata": {},
   "outputs": [
    {
     "name": "stdout",
     "output_type": "stream",
     "text": [
      "This non-commercial license of GraphLab Create for academic use is assigned to festo.owiny@studenti.unitn.it and will expire on August 10, 2019.\n"
     ]
    },
    {
     "name": "stderr",
     "output_type": "stream",
     "text": [
      "[INFO] graphlab.cython.cy_server: GraphLab Create v2.1 started. Logging: C:\\Users\\FESTO~1.OWI\\AppData\\Local\\Temp\\2\\graphlab_server_1540281033.log.0\n"
     ]
    }
   ],
   "source": [
    "# Read sql query output to panda dataframe\n",
    "df = pd.io.sql.read_sql(sql, conn)\n",
    "# Convert Dataframe to SFrame\n",
    "dataB2B = gl.SFrame(df)"
   ]
  },
  {
   "cell_type": "code",
   "execution_count": 5,
   "metadata": {},
   "outputs": [],
   "source": [
    "# Save the sframe data and print the result for visualization\n",
    "dataB2B.save('./dataset/dataB2B_RP.csv', format='csv')\n",
    "#print dataB2B.num_rows(), '\\n', dataB2B.column_names(), '\\n', dataB2B.head(), '\\n', df.head()"
   ]
  },
  {
   "cell_type": "markdown",
   "metadata": {},
   "source": [
    "### Read dataset output by recommender_AAP.py"
   ]
  },
  {
   "cell_type": "code",
   "execution_count": 6,
   "metadata": {},
   "outputs": [
    {
     "data": {
      "text/html": [
       "<pre>Finished parsing file C:\\Users\\festo.owiny\\Desktop\\recommend\\dataset\\dataB2B_AAP.csv</pre>"
      ],
      "text/plain": [
       "Finished parsing file C:\\Users\\festo.owiny\\Desktop\\recommend\\dataset\\dataB2B_AAP.csv"
      ]
     },
     "metadata": {},
     "output_type": "display_data"
    },
    {
     "data": {
      "text/html": [
       "<pre>Parsing completed. Parsed 100 lines in 0.058593 secs.</pre>"
      ],
      "text/plain": [
       "Parsing completed. Parsed 100 lines in 0.058593 secs."
      ]
     },
     "metadata": {},
     "output_type": "display_data"
    },
    {
     "name": "stdout",
     "output_type": "stream",
     "text": [
      "------------------------------------------------------\n",
      "Inferred types from first 100 line(s) of file as \n",
      "column_type_hints=[str,str,str,str,str,str,str,str,str,str,str,str]\n",
      "If parsing fails due to incorrect types, you can correct\n",
      "the inferred type list above and pass it to read_csv in\n",
      "the column_type_hints argument\n",
      "------------------------------------------------------\n"
     ]
    },
    {
     "data": {
      "text/html": [
       "<pre>Finished parsing file C:\\Users\\festo.owiny\\Desktop\\recommend\\dataset\\dataB2B_AAP.csv</pre>"
      ],
      "text/plain": [
       "Finished parsing file C:\\Users\\festo.owiny\\Desktop\\recommend\\dataset\\dataB2B_AAP.csv"
      ]
     },
     "metadata": {},
     "output_type": "display_data"
    },
    {
     "data": {
      "text/html": [
       "<pre>Parsing completed. Parsed 1137 lines in 0.046008 secs.</pre>"
      ],
      "text/plain": [
       "Parsing completed. Parsed 1137 lines in 0.046008 secs."
      ]
     },
     "metadata": {},
     "output_type": "display_data"
    }
   ],
   "source": [
    "# Read data saved by the previous recommender_AAP.py run\n",
    "dataB2B_AAP = gl.SFrame.read_csv('./dataset/dataB2B_AAP.csv')"
   ]
  },
  {
   "cell_type": "code",
   "execution_count": 7,
   "metadata": {},
   "outputs": [],
   "source": [
    "########## Derive dictionaries from item/product\n",
    "dicCustomer = dataB2B.select_columns(['customerKey', 'customerName']).unique()\n",
    "dicItem = dataB2B.select_columns(['itemKey', 'vendorItemNo', 'vendorNo', 'itemDescription', 'marchio', 'codMarchio',\\\n",
    "                                  'sport', 'reparto', 'sesso', 'tipo']).unique()\n",
    "#### Count unique users/Products\n",
    "users = dataB2B['customerKey'].unique()\n",
    "products = dataB2B['itemKey'].unique()"
   ]
  },
  {
   "cell_type": "code",
   "execution_count": 8,
   "metadata": {},
   "outputs": [],
   "source": [
    "# Derive dictionary for items/products of AAP\n",
    "dicCustomer_AAP = dataB2B_AAP.select_columns(['customerKey', 'customerName']).unique()\n",
    "dicItem_AAP = dataB2B_AAP.select_columns(['itemKey', 'vendorItemNo', 'vendorNo', 'itemDescription', 'marchio', 'codMarchio',\\\n",
    "                                          'sport', 'reparto', 'sesso', 'tipo']).unique()\n",
    "#### Unique users/Products for AAP\n",
    "users_AAP = dataB2B_AAP['customerKey'].unique()\n",
    "products_AAP = dataB2B_AAP['itemKey'].unique()"
   ]
  },
  {
   "cell_type": "markdown",
   "metadata": {
    "collapsed": true
   },
   "source": [
    "### split dataset"
   ]
  },
  {
   "cell_type": "code",
   "execution_count": 9,
   "metadata": {},
   "outputs": [],
   "source": [
    "## Split dataset into train and test ####\n",
    "train_data, test_data = dataB2B.random_split(0.8, seed=0)"
   ]
  },
  {
   "cell_type": "markdown",
   "metadata": {},
   "source": [
    "### POPULARITY MODEL ###"
   ]
  },
  {
   "cell_type": "markdown",
   "metadata": {},
   "source": [
    "#### 1. Deriving full list of APP clients #####"
   ]
  },
  {
   "cell_type": "code",
   "execution_count": 10,
   "metadata": {},
   "outputs": [
    {
     "data": {
      "text/html": [
       "<pre>Recsys training: model = popularity</pre>"
      ],
      "text/plain": [
       "Recsys training: model = popularity"
      ]
     },
     "metadata": {},
     "output_type": "display_data"
    },
    {
     "data": {
      "text/html": [
       "<pre>Warning: Ignoring columns customerName, vendorItemNo, vendorNo, itemDescription, marchio, codMarchio, sport, reparto, sesso, tipo;</pre>"
      ],
      "text/plain": [
       "Warning: Ignoring columns customerName, vendorItemNo, vendorNo, itemDescription, marchio, codMarchio, sport, reparto, sesso, tipo;"
      ]
     },
     "metadata": {},
     "output_type": "display_data"
    },
    {
     "data": {
      "text/html": [
       "<pre>    To use one of these as a target column, set target = <column_name></pre>"
      ],
      "text/plain": [
       "    To use one of these as a target column, set target = <column_name>"
      ]
     },
     "metadata": {},
     "output_type": "display_data"
    },
    {
     "data": {
      "text/html": [
       "<pre>    and use a method that allows the use of a target.</pre>"
      ],
      "text/plain": [
       "    and use a method that allows the use of a target."
      ]
     },
     "metadata": {},
     "output_type": "display_data"
    },
    {
     "data": {
      "text/html": [
       "<pre>Preparing data set.</pre>"
      ],
      "text/plain": [
       "Preparing data set."
      ]
     },
     "metadata": {},
     "output_type": "display_data"
    },
    {
     "data": {
      "text/html": [
       "<pre>    Data has 14784 observations with 923 users and 3201 items.</pre>"
      ],
      "text/plain": [
       "    Data has 14784 observations with 923 users and 3201 items."
      ]
     },
     "metadata": {},
     "output_type": "display_data"
    },
    {
     "data": {
      "text/html": [
       "<pre>    Data prepared in: 0.087014s</pre>"
      ],
      "text/plain": [
       "    Data prepared in: 0.087014s"
      ]
     },
     "metadata": {},
     "output_type": "display_data"
    },
    {
     "data": {
      "text/html": [
       "<pre>14784 observations to process; with 3201 unique items.</pre>"
      ],
      "text/plain": [
       "14784 observations to process; with 3201 unique items."
      ]
     },
     "metadata": {},
     "output_type": "display_data"
    }
   ],
   "source": [
    "########## Popularity-based recommender\n",
    "model_pop = gl.popularity_recommender.create(dataB2B, user_id='customerKey', item_id='itemKey')\n",
    "########## Recommned product for users using Popularity-based recommender\n",
    "recommended_pop = model_pop.recommend(users, k=len(products))\n",
    "recommended_pop = recommended_pop.join(dicCustomer, on = 'customerKey', how = 'inner').join(dicItem, on = 'itemKey', how = 'inner')"
   ]
  },
  {
   "cell_type": "code",
   "execution_count": 11,
   "metadata": {},
   "outputs": [],
   "source": [
    "# AAP Full list (clients belong to both AAp and RP) with recommded items\n",
    "popRP_N04 = recommended_pop.join(dicCustomer_AAP, on = 'customerKey', how = 'inner')\n",
    "# Exclude N04 products as they already have in the previous run of recommender_AAP.py ... This step distorts the the flow of rank column\n",
    "popRP1_N04 = popRP_N04[popRP_N04['codMarchio']!='N04']"
   ]
  },
  {
   "cell_type": "code",
   "execution_count": 12,
   "metadata": {},
   "outputs": [],
   "source": [
    "## Deriving a new rank column to replace the current distorted ###\n",
    "# Sort the results in ascending order of customerKey and rank respectively for later use in merging new rank column\n",
    "popRP2_N04 = popRP1_N04.sort(['customerKey', 'rank'], ascending = True)\n",
    "# Deriving the new rank column and then sort the numbers by customerKey and rankCount respectively to match  popRP2_N04 \n",
    "extract = popRP2_N04.groupby('customerKey', {'rankCount': agg.COUNT('rank')}).sort(['customerKey', 'rankCount'], ascending = True)\n",
    "# New rank as a lis of lists\n",
    "rank1 = extract['rankCount'].apply(lambda x: np.arange(1, x+1))\n",
    "\n",
    "# collapsing the list of lists\n",
    "merged_list = []\n",
    "for i in rank1:\n",
    "    merged_list += i\n",
    "# Casting the 'float' to 'int' to obtain a new list ready for merging\n",
    "merged_list = map(int, merged_list)"
   ]
  },
  {
   "cell_type": "code",
   "execution_count": 13,
   "metadata": {},
   "outputs": [],
   "source": [
    "# Append merged_list as a new column 'rank1'\n",
    "popRP2_N04['rank1'] = merged_list\n",
    "# Swap the rank columns\n",
    "popRP2_N04.swap_columns('rank', 'rank1')\n",
    "# Delete the last two columns and rename rank1 to rank\n",
    "popRP2_N04.remove_columns(['customerName.1', 'rank']).rename({'rank1':'rank'})\n",
    "# Obtain desired output by excluding values with rank greater than 10\n",
    "popRP_NIKE = popRP2_N04[popRP2_N04['rank'] <= 10]"
   ]
  },
  {
   "cell_type": "markdown",
   "metadata": {},
   "source": [
    "#### 2. Secondly derive RP_only List excluding the AAP clients above  ######"
   ]
  },
  {
   "cell_type": "code",
   "execution_count": 14,
   "metadata": {},
   "outputs": [],
   "source": [
    "# RP List excluding the AAP clients\n",
    "popRPonly = recommended_pop.filter_by(dicCustomer_AAP['customerKey'], 'customerKey', exclude=True)\n",
    "popRPonly_list = popRPonly[popRPonly['rank'] <= 10]"
   ]
  },
  {
   "cell_type": "markdown",
   "metadata": {},
   "source": [
    "### 3. Merge the two recommendation lists into a single list  ##########"
   ]
  },
  {
   "cell_type": "code",
   "execution_count": 15,
   "metadata": {},
   "outputs": [
    {
     "name": "stdout",
     "output_type": "stream",
     "text": [
      "740 8490 9230\n"
     ]
    }
   ],
   "source": [
    "popularRecommend_RP = popRP_NIKE.append(popRPonly_list)\n",
    "print len(popRP_NIKE), len(popRPonly_list), len(popularRecommend_RP)"
   ]
  },
  {
   "cell_type": "markdown",
   "metadata": {},
   "source": [
    "### PERSONALIZED RECOMMENDER ####"
   ]
  },
  {
   "cell_type": "code",
   "execution_count": 16,
   "metadata": {},
   "outputs": [
    {
     "data": {
      "text/html": [
       "<pre>Recsys training: model = item_similarity</pre>"
      ],
      "text/plain": [
       "Recsys training: model = item_similarity"
      ]
     },
     "metadata": {},
     "output_type": "display_data"
    },
    {
     "data": {
      "text/html": [
       "<pre>Warning: Ignoring columns customerName, vendorItemNo, vendorNo, itemDescription, marchio, codMarchio, sport, reparto, sesso, tipo;</pre>"
      ],
      "text/plain": [
       "Warning: Ignoring columns customerName, vendorItemNo, vendorNo, itemDescription, marchio, codMarchio, sport, reparto, sesso, tipo;"
      ]
     },
     "metadata": {},
     "output_type": "display_data"
    },
    {
     "data": {
      "text/html": [
       "<pre>    To use one of these as a target column, set target = <column_name></pre>"
      ],
      "text/plain": [
       "    To use one of these as a target column, set target = <column_name>"
      ]
     },
     "metadata": {},
     "output_type": "display_data"
    },
    {
     "data": {
      "text/html": [
       "<pre>    and use a method that allows the use of a target.</pre>"
      ],
      "text/plain": [
       "    and use a method that allows the use of a target."
      ]
     },
     "metadata": {},
     "output_type": "display_data"
    },
    {
     "data": {
      "text/html": [
       "<pre>Preparing data set.</pre>"
      ],
      "text/plain": [
       "Preparing data set."
      ]
     },
     "metadata": {},
     "output_type": "display_data"
    },
    {
     "data": {
      "text/html": [
       "<pre>    Data has 14784 observations with 923 users and 3201 items.</pre>"
      ],
      "text/plain": [
       "    Data has 14784 observations with 923 users and 3201 items."
      ]
     },
     "metadata": {},
     "output_type": "display_data"
    },
    {
     "data": {
      "text/html": [
       "<pre>    Data prepared in: 0.100001s</pre>"
      ],
      "text/plain": [
       "    Data prepared in: 0.100001s"
      ]
     },
     "metadata": {},
     "output_type": "display_data"
    },
    {
     "data": {
      "text/html": [
       "<pre>Training model from provided data.</pre>"
      ],
      "text/plain": [
       "Training model from provided data."
      ]
     },
     "metadata": {},
     "output_type": "display_data"
    },
    {
     "data": {
      "text/html": [
       "<pre>Gathering per-item and per-user statistics.</pre>"
      ],
      "text/plain": [
       "Gathering per-item and per-user statistics."
      ]
     },
     "metadata": {},
     "output_type": "display_data"
    },
    {
     "data": {
      "text/html": [
       "<pre>+--------------------------------+------------+</pre>"
      ],
      "text/plain": [
       "+--------------------------------+------------+"
      ]
     },
     "metadata": {},
     "output_type": "display_data"
    },
    {
     "data": {
      "text/html": [
       "<pre>| Elapsed Time (Item Statistics) | % Complete |</pre>"
      ],
      "text/plain": [
       "| Elapsed Time (Item Statistics) | % Complete |"
      ]
     },
     "metadata": {},
     "output_type": "display_data"
    },
    {
     "data": {
      "text/html": [
       "<pre>+--------------------------------+------------+</pre>"
      ],
      "text/plain": [
       "+--------------------------------+------------+"
      ]
     },
     "metadata": {},
     "output_type": "display_data"
    },
    {
     "data": {
      "text/html": [
       "<pre>| 0us                            | 100        |</pre>"
      ],
      "text/plain": [
       "| 0us                            | 100        |"
      ]
     },
     "metadata": {},
     "output_type": "display_data"
    },
    {
     "data": {
      "text/html": [
       "<pre>+--------------------------------+------------+</pre>"
      ],
      "text/plain": [
       "+--------------------------------+------------+"
      ]
     },
     "metadata": {},
     "output_type": "display_data"
    },
    {
     "data": {
      "text/html": [
       "<pre>Setting up lookup tables.</pre>"
      ],
      "text/plain": [
       "Setting up lookup tables."
      ]
     },
     "metadata": {},
     "output_type": "display_data"
    },
    {
     "data": {
      "text/html": [
       "<pre>Processing data in one pass using dense lookup tables.</pre>"
      ],
      "text/plain": [
       "Processing data in one pass using dense lookup tables."
      ]
     },
     "metadata": {},
     "output_type": "display_data"
    },
    {
     "data": {
      "text/html": [
       "<pre>+-------------------------------------+------------------+-----------------+</pre>"
      ],
      "text/plain": [
       "+-------------------------------------+------------------+-----------------+"
      ]
     },
     "metadata": {},
     "output_type": "display_data"
    },
    {
     "data": {
      "text/html": [
       "<pre>| Elapsed Time (Constructing Lookups) | Total % Complete | Items Processed |</pre>"
      ],
      "text/plain": [
       "| Elapsed Time (Constructing Lookups) | Total % Complete | Items Processed |"
      ]
     },
     "metadata": {},
     "output_type": "display_data"
    },
    {
     "data": {
      "text/html": [
       "<pre>+-------------------------------------+------------------+-----------------+</pre>"
      ],
      "text/plain": [
       "+-------------------------------------+------------------+-----------------+"
      ]
     },
     "metadata": {},
     "output_type": "display_data"
    },
    {
     "data": {
      "text/html": [
       "<pre>| 31.196ms                            | 0                | 0               |</pre>"
      ],
      "text/plain": [
       "| 31.196ms                            | 0                | 0               |"
      ]
     },
     "metadata": {},
     "output_type": "display_data"
    },
    {
     "data": {
      "text/html": [
       "<pre>| 193.011ms                           | 100              | 3201            |</pre>"
      ],
      "text/plain": [
       "| 193.011ms                           | 100              | 3201            |"
      ]
     },
     "metadata": {},
     "output_type": "display_data"
    },
    {
     "data": {
      "text/html": [
       "<pre>+-------------------------------------+------------------+-----------------+</pre>"
      ],
      "text/plain": [
       "+-------------------------------------+------------------+-----------------+"
      ]
     },
     "metadata": {},
     "output_type": "display_data"
    },
    {
     "data": {
      "text/html": [
       "<pre>Finalizing lookup tables.</pre>"
      ],
      "text/plain": [
       "Finalizing lookup tables."
      ]
     },
     "metadata": {},
     "output_type": "display_data"
    },
    {
     "data": {
      "text/html": [
       "<pre>Generating candidate set for working with new users.</pre>"
      ],
      "text/plain": [
       "Generating candidate set for working with new users."
      ]
     },
     "metadata": {},
     "output_type": "display_data"
    },
    {
     "data": {
      "text/html": [
       "<pre>Finished training in 1.20984s</pre>"
      ],
      "text/plain": [
       "Finished training in 1.20984s"
      ]
     },
     "metadata": {},
     "output_type": "display_data"
    }
   ],
   "source": [
    "########## Personalized recommender\n",
    "model_pers = gl.item_similarity_recommender.create(dataB2B, user_id='customerKey', item_id='itemKey')\n",
    "########## Recommned product for users using Popularity-based recommender\n",
    "recommended_pers = model_pers.recommend(users, k=len(products))\n",
    "recommended_pers = recommended_pers.join(dicCustomer, on = 'customerKey', how = 'inner').join(dicItem, on = 'itemKey', how = 'inner')"
   ]
  },
  {
   "cell_type": "markdown",
   "metadata": {},
   "source": [
    "#### 1. Deriving full list of APP clients #####"
   ]
  },
  {
   "cell_type": "code",
   "execution_count": 17,
   "metadata": {},
   "outputs": [],
   "source": [
    "# AAP Full list (clients belong to both AAp and RP) with recommded items\n",
    "persRP_N04 = recommended_pers.join(dicCustomer_AAP, on = 'customerKey', how = 'inner')\n",
    "# Exclude N04 products as they already have in the previous run of recommender_AAP.py ... This step distorts the the flow of rank column\n",
    "persRP1_N04 = persRP_N04[persRP_N04['codMarchio']!='N04']"
   ]
  },
  {
   "cell_type": "code",
   "execution_count": 18,
   "metadata": {},
   "outputs": [],
   "source": [
    "## Deriving a new rank column to replace the current distorted ###\n",
    "# Sort the results in ascending order of customerKey and rank respectively for later use in merging new rank column\n",
    "persRP2_N04 = persRP1_N04.sort(['customerKey', 'rank'], ascending = True)\n",
    "# Deriving the new rank column and then sort the numbers by customerKey and rankCount respectively to match  popRP2_N04 \n",
    "extract1 = persRP2_N04.groupby('customerKey', {'rankCount': agg.COUNT('rank')}).sort(['customerKey', 'rankCount'], ascending = True)\n",
    "# New rank as a lis of lists\n",
    "rank2 = extract1['rankCount'].apply(lambda x: np.arange(1, x+1))\n",
    "\n",
    "# collapsing the list of lists\n",
    "merged_list1 = []\n",
    "for j in rank2:\n",
    "    merged_list1 += j\n",
    "# Casting the 'float' to 'int' to obtain a new list ready for merging\n",
    "merged_list1 = map(int, merged_list1)"
   ]
  },
  {
   "cell_type": "code",
   "execution_count": 19,
   "metadata": {},
   "outputs": [],
   "source": [
    "# Append merged_list as a new column 'rank1'\n",
    "persRP2_N04['rank1'] = merged_list1\n",
    "# Swap the rank columns\n",
    "persRP2_N04.swap_columns('rank', 'rank1')\n",
    "# Delete the last two columns and rename rank1 to rank\n",
    "persRP2_N04.remove_columns(['customerName.1', 'rank']).rename({'rank1':'rank'})\n",
    "# Obtain desired output by excluding values with rank greater than 10\n",
    "persRP_NIKE = persRP2_N04[persRP2_N04['rank'] <= 10]"
   ]
  },
  {
   "cell_type": "markdown",
   "metadata": {},
   "source": [
    "#### 2. Secondly derive RP_only List excluding the AAP clients above  ######"
   ]
  },
  {
   "cell_type": "code",
   "execution_count": 20,
   "metadata": {},
   "outputs": [],
   "source": [
    "# RP only clients excluding the AAP clients\n",
    "persRPonly = recommended_pers.filter_by(dicCustomer_AAP['customerKey'], 'customerKey', exclude=True)\n",
    "persRPonly_list = persRPonly[persRPonly['rank'] <= 10]"
   ]
  },
  {
   "cell_type": "markdown",
   "metadata": {},
   "source": [
    "#### 3. Merge the two recommendation lists into a single list  ##########"
   ]
  },
  {
   "cell_type": "code",
   "execution_count": 21,
   "metadata": {},
   "outputs": [
    {
     "name": "stdout",
     "output_type": "stream",
     "text": [
      "740 8490 9230\n"
     ]
    }
   ],
   "source": [
    "persRecommend_RP = persRP_NIKE.append(persRPonly_list)\n",
    "print len(persRP_NIKE), len(persRPonly_list), len(persRecommend_RP)"
   ]
  },
  {
   "cell_type": "markdown",
   "metadata": {},
   "source": [
    "### 4. Full List of Most Similar Items by purchases pairs  #####"
   ]
  },
  {
   "cell_type": "code",
   "execution_count": 22,
   "metadata": {},
   "outputs": [
    {
     "data": {
      "text/html": [
       "<div style=\"max-height:1000px;max-width:1500px;overflow:auto;\"><table frame=\"box\" rules=\"cols\">\n",
       "    <tr>\n",
       "        <th style=\"padding-left: 1em; padding-right: 1em; text-align: center\">itemKey</th>\n",
       "        <th style=\"padding-left: 1em; padding-right: 1em; text-align: center\">similar</th>\n",
       "        <th style=\"padding-left: 1em; padding-right: 1em; text-align: center\">score</th>\n",
       "        <th style=\"padding-left: 1em; padding-right: 1em; text-align: center\">rank</th>\n",
       "        <th style=\"padding-left: 1em; padding-right: 1em; text-align: center\">codMarchio</th>\n",
       "        <th style=\"padding-left: 1em; padding-right: 1em; text-align: center\">itemDescription</th>\n",
       "        <th style=\"padding-left: 1em; padding-right: 1em; text-align: center\">marchio</th>\n",
       "    </tr>\n",
       "    <tr>\n",
       "        <td style=\"padding-left: 1em; padding-right: 1em; text-align: center; vertical-align: top\">N04-00011038-3A dei F_lli<br>Antonini S_p_a_ ...</td>\n",
       "        <td style=\"padding-left: 1em; padding-right: 1em; text-align: center; vertical-align: top\">N04-00013553-3A dei F_lli<br>Antonini S_p_a_ ...</td>\n",
       "        <td style=\"padding-left: 1em; padding-right: 1em; text-align: center; vertical-align: top\">1.0</td>\n",
       "        <td style=\"padding-left: 1em; padding-right: 1em; text-align: center; vertical-align: top\">1</td>\n",
       "        <td style=\"padding-left: 1em; padding-right: 1em; text-align: center; vertical-align: top\">N04</td>\n",
       "        <td style=\"padding-left: 1em; padding-right: 1em; text-align: center; vertical-align: top\">WMNS NIKE COURT ROYALE SE</td>\n",
       "        <td style=\"padding-left: 1em; padding-right: 1em; text-align: center; vertical-align: top\">NIKE</td>\n",
       "    </tr>\n",
       "    <tr>\n",
       "        <td style=\"padding-left: 1em; padding-right: 1em; text-align: center; vertical-align: top\">N04-00011038-3A dei F_lli<br>Antonini S_p_a_ ...</td>\n",
       "        <td style=\"padding-left: 1em; padding-right: 1em; text-align: center; vertical-align: top\">N04-00001544-3A dei F_lli<br>Antonini S_p_a_ ...</td>\n",
       "        <td style=\"padding-left: 1em; padding-right: 1em; text-align: center; vertical-align: top\">1.0</td>\n",
       "        <td style=\"padding-left: 1em; padding-right: 1em; text-align: center; vertical-align: top\">2</td>\n",
       "        <td style=\"padding-left: 1em; padding-right: 1em; text-align: center; vertical-align: top\">N04</td>\n",
       "        <td style=\"padding-left: 1em; padding-right: 1em; text-align: center; vertical-align: top\">WMNS NIKE COURT ROYALE SE</td>\n",
       "        <td style=\"padding-left: 1em; padding-right: 1em; text-align: center; vertical-align: top\">NIKE</td>\n",
       "    </tr>\n",
       "    <tr>\n",
       "        <td style=\"padding-left: 1em; padding-right: 1em; text-align: center; vertical-align: top\">N04-00011038-3A dei F_lli<br>Antonini S_p_a_ ...</td>\n",
       "        <td style=\"padding-left: 1em; padding-right: 1em; text-align: center; vertical-align: top\">N04-00008851-3A dei F_lli<br>Antonini S_p_a_ ...</td>\n",
       "        <td style=\"padding-left: 1em; padding-right: 1em; text-align: center; vertical-align: top\">1.0</td>\n",
       "        <td style=\"padding-left: 1em; padding-right: 1em; text-align: center; vertical-align: top\">3</td>\n",
       "        <td style=\"padding-left: 1em; padding-right: 1em; text-align: center; vertical-align: top\">N04</td>\n",
       "        <td style=\"padding-left: 1em; padding-right: 1em; text-align: center; vertical-align: top\">WMNS NIKE COURT ROYALE SE</td>\n",
       "        <td style=\"padding-left: 1em; padding-right: 1em; text-align: center; vertical-align: top\">NIKE</td>\n",
       "    </tr>\n",
       "    <tr>\n",
       "        <td style=\"padding-left: 1em; padding-right: 1em; text-align: center; vertical-align: top\">N04-00011038-3A dei F_lli<br>Antonini S_p_a_ ...</td>\n",
       "        <td style=\"padding-left: 1em; padding-right: 1em; text-align: center; vertical-align: top\">N04-00011028-3A dei F_lli<br>Antonini S_p_a_ ...</td>\n",
       "        <td style=\"padding-left: 1em; padding-right: 1em; text-align: center; vertical-align: top\">1.0</td>\n",
       "        <td style=\"padding-left: 1em; padding-right: 1em; text-align: center; vertical-align: top\">4</td>\n",
       "        <td style=\"padding-left: 1em; padding-right: 1em; text-align: center; vertical-align: top\">N04</td>\n",
       "        <td style=\"padding-left: 1em; padding-right: 1em; text-align: center; vertical-align: top\">WMNS NIKE COURT ROYALE SE</td>\n",
       "        <td style=\"padding-left: 1em; padding-right: 1em; text-align: center; vertical-align: top\">NIKE</td>\n",
       "    </tr>\n",
       "    <tr>\n",
       "        <td style=\"padding-left: 1em; padding-right: 1em; text-align: center; vertical-align: top\">N04-00011038-3A dei F_lli<br>Antonini S_p_a_ ...</td>\n",
       "        <td style=\"padding-left: 1em; padding-right: 1em; text-align: center; vertical-align: top\">N04-00011190-3A dei F_lli<br>Antonini S_p_a_ ...</td>\n",
       "        <td style=\"padding-left: 1em; padding-right: 1em; text-align: center; vertical-align: top\">1.0</td>\n",
       "        <td style=\"padding-left: 1em; padding-right: 1em; text-align: center; vertical-align: top\">5</td>\n",
       "        <td style=\"padding-left: 1em; padding-right: 1em; text-align: center; vertical-align: top\">N04</td>\n",
       "        <td style=\"padding-left: 1em; padding-right: 1em; text-align: center; vertical-align: top\">WMNS NIKE COURT ROYALE SE</td>\n",
       "        <td style=\"padding-left: 1em; padding-right: 1em; text-align: center; vertical-align: top\">NIKE</td>\n",
       "    </tr>\n",
       "    <tr>\n",
       "        <td style=\"padding-left: 1em; padding-right: 1em; text-align: center; vertical-align: top\">N04-00011038-3A dei F_lli<br>Antonini S_p_a_ ...</td>\n",
       "        <td style=\"padding-left: 1em; padding-right: 1em; text-align: center; vertical-align: top\">N04-00011191-3A dei F_lli<br>Antonini S_p_a_ ...</td>\n",
       "        <td style=\"padding-left: 1em; padding-right: 1em; text-align: center; vertical-align: top\">1.0</td>\n",
       "        <td style=\"padding-left: 1em; padding-right: 1em; text-align: center; vertical-align: top\">6</td>\n",
       "        <td style=\"padding-left: 1em; padding-right: 1em; text-align: center; vertical-align: top\">N04</td>\n",
       "        <td style=\"padding-left: 1em; padding-right: 1em; text-align: center; vertical-align: top\">WMNS NIKE COURT ROYALE SE</td>\n",
       "        <td style=\"padding-left: 1em; padding-right: 1em; text-align: center; vertical-align: top\">NIKE</td>\n",
       "    </tr>\n",
       "    <tr>\n",
       "        <td style=\"padding-left: 1em; padding-right: 1em; text-align: center; vertical-align: top\">N04-00011038-3A dei F_lli<br>Antonini S_p_a_ ...</td>\n",
       "        <td style=\"padding-left: 1em; padding-right: 1em; text-align: center; vertical-align: top\">N04-00011594-3A dei F_lli<br>Antonini S_p_a_ ...</td>\n",
       "        <td style=\"padding-left: 1em; padding-right: 1em; text-align: center; vertical-align: top\">1.0</td>\n",
       "        <td style=\"padding-left: 1em; padding-right: 1em; text-align: center; vertical-align: top\">7</td>\n",
       "        <td style=\"padding-left: 1em; padding-right: 1em; text-align: center; vertical-align: top\">N04</td>\n",
       "        <td style=\"padding-left: 1em; padding-right: 1em; text-align: center; vertical-align: top\">WMNS NIKE COURT ROYALE SE</td>\n",
       "        <td style=\"padding-left: 1em; padding-right: 1em; text-align: center; vertical-align: top\">NIKE</td>\n",
       "    </tr>\n",
       "    <tr>\n",
       "        <td style=\"padding-left: 1em; padding-right: 1em; text-align: center; vertical-align: top\">N04-00011038-3A dei F_lli<br>Antonini S_p_a_ ...</td>\n",
       "        <td style=\"padding-left: 1em; padding-right: 1em; text-align: center; vertical-align: top\">N04-00011596-3A dei F_lli<br>Antonini S_p_a_ ...</td>\n",
       "        <td style=\"padding-left: 1em; padding-right: 1em; text-align: center; vertical-align: top\">1.0</td>\n",
       "        <td style=\"padding-left: 1em; padding-right: 1em; text-align: center; vertical-align: top\">8</td>\n",
       "        <td style=\"padding-left: 1em; padding-right: 1em; text-align: center; vertical-align: top\">N04</td>\n",
       "        <td style=\"padding-left: 1em; padding-right: 1em; text-align: center; vertical-align: top\">WMNS NIKE COURT ROYALE SE</td>\n",
       "        <td style=\"padding-left: 1em; padding-right: 1em; text-align: center; vertical-align: top\">NIKE</td>\n",
       "    </tr>\n",
       "    <tr>\n",
       "        <td style=\"padding-left: 1em; padding-right: 1em; text-align: center; vertical-align: top\">N04-00011038-3A dei F_lli<br>Antonini S_p_a_ ...</td>\n",
       "        <td style=\"padding-left: 1em; padding-right: 1em; text-align: center; vertical-align: top\">N04-00001547-3A dei F_lli<br>Antonini S_p_a_ ...</td>\n",
       "        <td style=\"padding-left: 1em; padding-right: 1em; text-align: center; vertical-align: top\">0.5</td>\n",
       "        <td style=\"padding-left: 1em; padding-right: 1em; text-align: center; vertical-align: top\">9</td>\n",
       "        <td style=\"padding-left: 1em; padding-right: 1em; text-align: center; vertical-align: top\">N04</td>\n",
       "        <td style=\"padding-left: 1em; padding-right: 1em; text-align: center; vertical-align: top\">WMNS NIKE COURT ROYALE SE</td>\n",
       "        <td style=\"padding-left: 1em; padding-right: 1em; text-align: center; vertical-align: top\">NIKE</td>\n",
       "    </tr>\n",
       "    <tr>\n",
       "        <td style=\"padding-left: 1em; padding-right: 1em; text-align: center; vertical-align: top\">N04-00011038-3A dei F_lli<br>Antonini S_p_a_ ...</td>\n",
       "        <td style=\"padding-left: 1em; padding-right: 1em; text-align: center; vertical-align: top\">N04-00013031-3A dei F_lli<br>Antonini S_p_a_ ...</td>\n",
       "        <td style=\"padding-left: 1em; padding-right: 1em; text-align: center; vertical-align: top\">0.5</td>\n",
       "        <td style=\"padding-left: 1em; padding-right: 1em; text-align: center; vertical-align: top\">10</td>\n",
       "        <td style=\"padding-left: 1em; padding-right: 1em; text-align: center; vertical-align: top\">N04</td>\n",
       "        <td style=\"padding-left: 1em; padding-right: 1em; text-align: center; vertical-align: top\">WMNS NIKE COURT ROYALE SE</td>\n",
       "        <td style=\"padding-left: 1em; padding-right: 1em; text-align: center; vertical-align: top\">NIKE</td>\n",
       "    </tr>\n",
       "</table>\n",
       "<table frame=\"box\" rules=\"cols\">\n",
       "    <tr>\n",
       "        <th style=\"padding-left: 1em; padding-right: 1em; text-align: center\">reparto</th>\n",
       "        <th style=\"padding-left: 1em; padding-right: 1em; text-align: center\">sesso</th>\n",
       "        <th style=\"padding-left: 1em; padding-right: 1em; text-align: center\">sport</th>\n",
       "        <th style=\"padding-left: 1em; padding-right: 1em; text-align: center\">tipo</th>\n",
       "        <th style=\"padding-left: 1em; padding-right: 1em; text-align: center\">vendorItemNo</th>\n",
       "        <th style=\"padding-left: 1em; padding-right: 1em; text-align: center\">vendorNo</th>\n",
       "        <th style=\"padding-left: 1em; padding-right: 1em; text-align: center\">codMarchio.1</th>\n",
       "    </tr>\n",
       "    <tr>\n",
       "        <td style=\"padding-left: 1em; padding-right: 1em; text-align: center; vertical-align: top\">CALZATURE</td>\n",
       "        <td style=\"padding-left: 1em; padding-right: 1em; text-align: center; vertical-align: top\">DONNA</td>\n",
       "        <td style=\"padding-left: 1em; padding-right: 1em; text-align: center; vertical-align: top\">TEMPO LIBERO PRIMAVERA</td>\n",
       "        <td style=\"padding-left: 1em; padding-right: 1em; text-align: center; vertical-align: top\">SCARPE</td>\n",
       "        <td style=\"padding-left: 1em; padding-right: 1em; text-align: center; vertical-align: top\">AA2170-600</td>\n",
       "        <td style=\"padding-left: 1em; padding-right: 1em; text-align: center; vertical-align: top\">F03269</td>\n",
       "        <td style=\"padding-left: 1em; padding-right: 1em; text-align: center; vertical-align: top\">N04</td>\n",
       "    </tr>\n",
       "    <tr>\n",
       "        <td style=\"padding-left: 1em; padding-right: 1em; text-align: center; vertical-align: top\">CALZATURE</td>\n",
       "        <td style=\"padding-left: 1em; padding-right: 1em; text-align: center; vertical-align: top\">DONNA</td>\n",
       "        <td style=\"padding-left: 1em; padding-right: 1em; text-align: center; vertical-align: top\">TEMPO LIBERO PRIMAVERA</td>\n",
       "        <td style=\"padding-left: 1em; padding-right: 1em; text-align: center; vertical-align: top\">SCARPE</td>\n",
       "        <td style=\"padding-left: 1em; padding-right: 1em; text-align: center; vertical-align: top\">AA2170-600</td>\n",
       "        <td style=\"padding-left: 1em; padding-right: 1em; text-align: center; vertical-align: top\">F03269</td>\n",
       "        <td style=\"padding-left: 1em; padding-right: 1em; text-align: center; vertical-align: top\">N04</td>\n",
       "    </tr>\n",
       "    <tr>\n",
       "        <td style=\"padding-left: 1em; padding-right: 1em; text-align: center; vertical-align: top\">CALZATURE</td>\n",
       "        <td style=\"padding-left: 1em; padding-right: 1em; text-align: center; vertical-align: top\">DONNA</td>\n",
       "        <td style=\"padding-left: 1em; padding-right: 1em; text-align: center; vertical-align: top\">TEMPO LIBERO PRIMAVERA</td>\n",
       "        <td style=\"padding-left: 1em; padding-right: 1em; text-align: center; vertical-align: top\">SCARPE</td>\n",
       "        <td style=\"padding-left: 1em; padding-right: 1em; text-align: center; vertical-align: top\">AA2170-600</td>\n",
       "        <td style=\"padding-left: 1em; padding-right: 1em; text-align: center; vertical-align: top\">F03269</td>\n",
       "        <td style=\"padding-left: 1em; padding-right: 1em; text-align: center; vertical-align: top\">N04</td>\n",
       "    </tr>\n",
       "    <tr>\n",
       "        <td style=\"padding-left: 1em; padding-right: 1em; text-align: center; vertical-align: top\">CALZATURE</td>\n",
       "        <td style=\"padding-left: 1em; padding-right: 1em; text-align: center; vertical-align: top\">DONNA</td>\n",
       "        <td style=\"padding-left: 1em; padding-right: 1em; text-align: center; vertical-align: top\">TEMPO LIBERO PRIMAVERA</td>\n",
       "        <td style=\"padding-left: 1em; padding-right: 1em; text-align: center; vertical-align: top\">SCARPE</td>\n",
       "        <td style=\"padding-left: 1em; padding-right: 1em; text-align: center; vertical-align: top\">AA2170-600</td>\n",
       "        <td style=\"padding-left: 1em; padding-right: 1em; text-align: center; vertical-align: top\">F03269</td>\n",
       "        <td style=\"padding-left: 1em; padding-right: 1em; text-align: center; vertical-align: top\">N04</td>\n",
       "    </tr>\n",
       "    <tr>\n",
       "        <td style=\"padding-left: 1em; padding-right: 1em; text-align: center; vertical-align: top\">CALZATURE</td>\n",
       "        <td style=\"padding-left: 1em; padding-right: 1em; text-align: center; vertical-align: top\">DONNA</td>\n",
       "        <td style=\"padding-left: 1em; padding-right: 1em; text-align: center; vertical-align: top\">TEMPO LIBERO PRIMAVERA</td>\n",
       "        <td style=\"padding-left: 1em; padding-right: 1em; text-align: center; vertical-align: top\">SCARPE</td>\n",
       "        <td style=\"padding-left: 1em; padding-right: 1em; text-align: center; vertical-align: top\">AA2170-600</td>\n",
       "        <td style=\"padding-left: 1em; padding-right: 1em; text-align: center; vertical-align: top\">F03269</td>\n",
       "        <td style=\"padding-left: 1em; padding-right: 1em; text-align: center; vertical-align: top\">N04</td>\n",
       "    </tr>\n",
       "    <tr>\n",
       "        <td style=\"padding-left: 1em; padding-right: 1em; text-align: center; vertical-align: top\">CALZATURE</td>\n",
       "        <td style=\"padding-left: 1em; padding-right: 1em; text-align: center; vertical-align: top\">DONNA</td>\n",
       "        <td style=\"padding-left: 1em; padding-right: 1em; text-align: center; vertical-align: top\">TEMPO LIBERO PRIMAVERA</td>\n",
       "        <td style=\"padding-left: 1em; padding-right: 1em; text-align: center; vertical-align: top\">SCARPE</td>\n",
       "        <td style=\"padding-left: 1em; padding-right: 1em; text-align: center; vertical-align: top\">AA2170-600</td>\n",
       "        <td style=\"padding-left: 1em; padding-right: 1em; text-align: center; vertical-align: top\">F03269</td>\n",
       "        <td style=\"padding-left: 1em; padding-right: 1em; text-align: center; vertical-align: top\">N04</td>\n",
       "    </tr>\n",
       "    <tr>\n",
       "        <td style=\"padding-left: 1em; padding-right: 1em; text-align: center; vertical-align: top\">CALZATURE</td>\n",
       "        <td style=\"padding-left: 1em; padding-right: 1em; text-align: center; vertical-align: top\">DONNA</td>\n",
       "        <td style=\"padding-left: 1em; padding-right: 1em; text-align: center; vertical-align: top\">TEMPO LIBERO PRIMAVERA</td>\n",
       "        <td style=\"padding-left: 1em; padding-right: 1em; text-align: center; vertical-align: top\">SCARPE</td>\n",
       "        <td style=\"padding-left: 1em; padding-right: 1em; text-align: center; vertical-align: top\">AA2170-600</td>\n",
       "        <td style=\"padding-left: 1em; padding-right: 1em; text-align: center; vertical-align: top\">F03269</td>\n",
       "        <td style=\"padding-left: 1em; padding-right: 1em; text-align: center; vertical-align: top\">N04</td>\n",
       "    </tr>\n",
       "    <tr>\n",
       "        <td style=\"padding-left: 1em; padding-right: 1em; text-align: center; vertical-align: top\">CALZATURE</td>\n",
       "        <td style=\"padding-left: 1em; padding-right: 1em; text-align: center; vertical-align: top\">DONNA</td>\n",
       "        <td style=\"padding-left: 1em; padding-right: 1em; text-align: center; vertical-align: top\">TEMPO LIBERO PRIMAVERA</td>\n",
       "        <td style=\"padding-left: 1em; padding-right: 1em; text-align: center; vertical-align: top\">SCARPE</td>\n",
       "        <td style=\"padding-left: 1em; padding-right: 1em; text-align: center; vertical-align: top\">AA2170-600</td>\n",
       "        <td style=\"padding-left: 1em; padding-right: 1em; text-align: center; vertical-align: top\">F03269</td>\n",
       "        <td style=\"padding-left: 1em; padding-right: 1em; text-align: center; vertical-align: top\">N04</td>\n",
       "    </tr>\n",
       "    <tr>\n",
       "        <td style=\"padding-left: 1em; padding-right: 1em; text-align: center; vertical-align: top\">CALZATURE</td>\n",
       "        <td style=\"padding-left: 1em; padding-right: 1em; text-align: center; vertical-align: top\">DONNA</td>\n",
       "        <td style=\"padding-left: 1em; padding-right: 1em; text-align: center; vertical-align: top\">TEMPO LIBERO PRIMAVERA</td>\n",
       "        <td style=\"padding-left: 1em; padding-right: 1em; text-align: center; vertical-align: top\">SCARPE</td>\n",
       "        <td style=\"padding-left: 1em; padding-right: 1em; text-align: center; vertical-align: top\">AA2170-600</td>\n",
       "        <td style=\"padding-left: 1em; padding-right: 1em; text-align: center; vertical-align: top\">F03269</td>\n",
       "        <td style=\"padding-left: 1em; padding-right: 1em; text-align: center; vertical-align: top\">N04</td>\n",
       "    </tr>\n",
       "    <tr>\n",
       "        <td style=\"padding-left: 1em; padding-right: 1em; text-align: center; vertical-align: top\">CALZATURE</td>\n",
       "        <td style=\"padding-left: 1em; padding-right: 1em; text-align: center; vertical-align: top\">DONNA</td>\n",
       "        <td style=\"padding-left: 1em; padding-right: 1em; text-align: center; vertical-align: top\">TEMPO LIBERO PRIMAVERA</td>\n",
       "        <td style=\"padding-left: 1em; padding-right: 1em; text-align: center; vertical-align: top\">SCARPE</td>\n",
       "        <td style=\"padding-left: 1em; padding-right: 1em; text-align: center; vertical-align: top\">AA2170-600</td>\n",
       "        <td style=\"padding-left: 1em; padding-right: 1em; text-align: center; vertical-align: top\">F03269</td>\n",
       "        <td style=\"padding-left: 1em; padding-right: 1em; text-align: center; vertical-align: top\">N04</td>\n",
       "    </tr>\n",
       "</table>\n",
       "<table frame=\"box\" rules=\"cols\">\n",
       "    <tr>\n",
       "        <th style=\"padding-left: 1em; padding-right: 1em; text-align: center\">itemDescription.1</th>\n",
       "        <th style=\"padding-left: 1em; padding-right: 1em; text-align: center\">marchio.1</th>\n",
       "        <th style=\"padding-left: 1em; padding-right: 1em; text-align: center\">reparto.1</th>\n",
       "        <th style=\"padding-left: 1em; padding-right: 1em; text-align: center\">sesso.1</th>\n",
       "        <th style=\"padding-left: 1em; padding-right: 1em; text-align: center\">sport.1</th>\n",
       "        <th style=\"padding-left: 1em; padding-right: 1em; text-align: center\">tipo.1</th>\n",
       "        <th style=\"padding-left: 1em; padding-right: 1em; text-align: center\">vendorItemNo.1</th>\n",
       "    </tr>\n",
       "    <tr>\n",
       "        <td style=\"padding-left: 1em; padding-right: 1em; text-align: center; vertical-align: top\">NIKE COURT BOROUGH LOW SE<br>(GS) ...</td>\n",
       "        <td style=\"padding-left: 1em; padding-right: 1em; text-align: center; vertical-align: top\">NIKE</td>\n",
       "        <td style=\"padding-left: 1em; padding-right: 1em; text-align: center; vertical-align: top\">CALZATURE</td>\n",
       "        <td style=\"padding-left: 1em; padding-right: 1em; text-align: center; vertical-align: top\">JUNIOR</td>\n",
       "        <td style=\"padding-left: 1em; padding-right: 1em; text-align: center; vertical-align: top\">TEMPO LIBERO PRIMAVERA</td>\n",
       "        <td style=\"padding-left: 1em; padding-right: 1em; text-align: center; vertical-align: top\">SCARPE</td>\n",
       "        <td style=\"padding-left: 1em; padding-right: 1em; text-align: center; vertical-align: top\">AA2902-001</td>\n",
       "    </tr>\n",
       "    <tr>\n",
       "        <td style=\"padding-left: 1em; padding-right: 1em; text-align: center; vertical-align: top\">NIKE SUNRAY ADJUST 4 (TD)</td>\n",
       "        <td style=\"padding-left: 1em; padding-right: 1em; text-align: center; vertical-align: top\">NIKE</td>\n",
       "        <td style=\"padding-left: 1em; padding-right: 1em; text-align: center; vertical-align: top\">CALZATURE</td>\n",
       "        <td style=\"padding-left: 1em; padding-right: 1em; text-align: center; vertical-align: top\">JUNIOR</td>\n",
       "        <td style=\"padding-left: 1em; padding-right: 1em; text-align: center; vertical-align: top\">TEMPO LIBERO PRIMAVERA</td>\n",
       "        <td style=\"padding-left: 1em; padding-right: 1em; text-align: center; vertical-align: top\">SCARPE</td>\n",
       "        <td style=\"padding-left: 1em; padding-right: 1em; text-align: center; vertical-align: top\">386519-011</td>\n",
       "    </tr>\n",
       "    <tr>\n",
       "        <td style=\"padding-left: 1em; padding-right: 1em; text-align: center; vertical-align: top\">NIKE AIR MAX FURY</td>\n",
       "        <td style=\"padding-left: 1em; padding-right: 1em; text-align: center; vertical-align: top\">NIKE</td>\n",
       "        <td style=\"padding-left: 1em; padding-right: 1em; text-align: center; vertical-align: top\">CALZATURE</td>\n",
       "        <td style=\"padding-left: 1em; padding-right: 1em; text-align: center; vertical-align: top\">UOMO</td>\n",
       "        <td style=\"padding-left: 1em; padding-right: 1em; text-align: center; vertical-align: top\">RUNNING/CORSA</td>\n",
       "        <td style=\"padding-left: 1em; padding-right: 1em; text-align: center; vertical-align: top\">SCARPE</td>\n",
       "        <td style=\"padding-left: 1em; padding-right: 1em; text-align: center; vertical-align: top\">AA5739-001</td>\n",
       "    </tr>\n",
       "    <tr>\n",
       "        <td style=\"padding-left: 1em; padding-right: 1em; text-align: center; vertical-align: top\">NIKE AIR MAX AXIS (GS)</td>\n",
       "        <td style=\"padding-left: 1em; padding-right: 1em; text-align: center; vertical-align: top\">NIKE</td>\n",
       "        <td style=\"padding-left: 1em; padding-right: 1em; text-align: center; vertical-align: top\">CALZATURE</td>\n",
       "        <td style=\"padding-left: 1em; padding-right: 1em; text-align: center; vertical-align: top\">JUNIOR</td>\n",
       "        <td style=\"padding-left: 1em; padding-right: 1em; text-align: center; vertical-align: top\">TEMPO LIBERO PRIMAVERA</td>\n",
       "        <td style=\"padding-left: 1em; padding-right: 1em; text-align: center; vertical-align: top\">SCARPE</td>\n",
       "        <td style=\"padding-left: 1em; padding-right: 1em; text-align: center; vertical-align: top\">AH5222-003</td>\n",
       "    </tr>\n",
       "    <tr>\n",
       "        <td style=\"padding-left: 1em; padding-right: 1em; text-align: center; vertical-align: top\">NIKE AIR MAX AXIS (TD)</td>\n",
       "        <td style=\"padding-left: 1em; padding-right: 1em; text-align: center; vertical-align: top\">NIKE</td>\n",
       "        <td style=\"padding-left: 1em; padding-right: 1em; text-align: center; vertical-align: top\">CALZATURE</td>\n",
       "        <td style=\"padding-left: 1em; padding-right: 1em; text-align: center; vertical-align: top\">JUNIOR</td>\n",
       "        <td style=\"padding-left: 1em; padding-right: 1em; text-align: center; vertical-align: top\">TEMPO LIBERO PRIMAVERA</td>\n",
       "        <td style=\"padding-left: 1em; padding-right: 1em; text-align: center; vertical-align: top\">SCARPE</td>\n",
       "        <td style=\"padding-left: 1em; padding-right: 1em; text-align: center; vertical-align: top\">AH5224-001</td>\n",
       "    </tr>\n",
       "    <tr>\n",
       "        <td style=\"padding-left: 1em; padding-right: 1em; text-align: center; vertical-align: top\">NIKE AIR MAX AXIS (TD)</td>\n",
       "        <td style=\"padding-left: 1em; padding-right: 1em; text-align: center; vertical-align: top\">NIKE</td>\n",
       "        <td style=\"padding-left: 1em; padding-right: 1em; text-align: center; vertical-align: top\">CALZATURE</td>\n",
       "        <td style=\"padding-left: 1em; padding-right: 1em; text-align: center; vertical-align: top\">JUNIOR</td>\n",
       "        <td style=\"padding-left: 1em; padding-right: 1em; text-align: center; vertical-align: top\">TEMPO LIBERO PRIMAVERA</td>\n",
       "        <td style=\"padding-left: 1em; padding-right: 1em; text-align: center; vertical-align: top\">SCARPE</td>\n",
       "        <td style=\"padding-left: 1em; padding-right: 1em; text-align: center; vertical-align: top\">AH5224-100</td>\n",
       "    </tr>\n",
       "    <tr>\n",
       "        <td style=\"padding-left: 1em; padding-right: 1em; text-align: center; vertical-align: top\">NIKE SB CHECK CNVS (PS)</td>\n",
       "        <td style=\"padding-left: 1em; padding-right: 1em; text-align: center; vertical-align: top\">NIKE</td>\n",
       "        <td style=\"padding-left: 1em; padding-right: 1em; text-align: center; vertical-align: top\">CALZATURE</td>\n",
       "        <td style=\"padding-left: 1em; padding-right: 1em; text-align: center; vertical-align: top\">JUNIOR</td>\n",
       "        <td style=\"padding-left: 1em; padding-right: 1em; text-align: center; vertical-align: top\">TEMPO LIBERO PRIMAVERA</td>\n",
       "        <td style=\"padding-left: 1em; padding-right: 1em; text-align: center; vertical-align: top\">SCARPE</td>\n",
       "        <td style=\"padding-left: 1em; padding-right: 1em; text-align: center; vertical-align: top\">905371-003</td>\n",
       "    </tr>\n",
       "    <tr>\n",
       "        <td style=\"padding-left: 1em; padding-right: 1em; text-align: center; vertical-align: top\">NIKE SB CHECK CNVS (TD)</td>\n",
       "        <td style=\"padding-left: 1em; padding-right: 1em; text-align: center; vertical-align: top\">NIKE</td>\n",
       "        <td style=\"padding-left: 1em; padding-right: 1em; text-align: center; vertical-align: top\">CALZATURE</td>\n",
       "        <td style=\"padding-left: 1em; padding-right: 1em; text-align: center; vertical-align: top\">JUNIOR</td>\n",
       "        <td style=\"padding-left: 1em; padding-right: 1em; text-align: center; vertical-align: top\">TEMPO LIBERO PRIMAVERA</td>\n",
       "        <td style=\"padding-left: 1em; padding-right: 1em; text-align: center; vertical-align: top\">SCARPE</td>\n",
       "        <td style=\"padding-left: 1em; padding-right: 1em; text-align: center; vertical-align: top\">905372-003</td>\n",
       "    </tr>\n",
       "    <tr>\n",
       "        <td style=\"padding-left: 1em; padding-right: 1em; text-align: center; vertical-align: top\">NIKE SUNRAY ADJUST 4 (TD)</td>\n",
       "        <td style=\"padding-left: 1em; padding-right: 1em; text-align: center; vertical-align: top\">NIKE</td>\n",
       "        <td style=\"padding-left: 1em; padding-right: 1em; text-align: center; vertical-align: top\">CALZATURE</td>\n",
       "        <td style=\"padding-left: 1em; padding-right: 1em; text-align: center; vertical-align: top\">JUNIOR</td>\n",
       "        <td style=\"padding-left: 1em; padding-right: 1em; text-align: center; vertical-align: top\">TEMPO LIBERO PRIMAVERA</td>\n",
       "        <td style=\"padding-left: 1em; padding-right: 1em; text-align: center; vertical-align: top\">SCARPE</td>\n",
       "        <td style=\"padding-left: 1em; padding-right: 1em; text-align: center; vertical-align: top\">386521-504</td>\n",
       "    </tr>\n",
       "    <tr>\n",
       "        <td style=\"padding-left: 1em; padding-right: 1em; text-align: center; vertical-align: top\">NIKE COURT BOROUGH MID<br>(PSV) ...</td>\n",
       "        <td style=\"padding-left: 1em; padding-right: 1em; text-align: center; vertical-align: top\">NIKE</td>\n",
       "        <td style=\"padding-left: 1em; padding-right: 1em; text-align: center; vertical-align: top\">CALZATURE</td>\n",
       "        <td style=\"padding-left: 1em; padding-right: 1em; text-align: center; vertical-align: top\">JUNIOR</td>\n",
       "        <td style=\"padding-left: 1em; padding-right: 1em; text-align: center; vertical-align: top\">TEMPO LIBERO PRIMAVERA</td>\n",
       "        <td style=\"padding-left: 1em; padding-right: 1em; text-align: center; vertical-align: top\">SCARPE</td>\n",
       "        <td style=\"padding-left: 1em; padding-right: 1em; text-align: center; vertical-align: top\">870031-103</td>\n",
       "    </tr>\n",
       "</table>\n",
       "<table frame=\"box\" rules=\"cols\">\n",
       "    <tr>\n",
       "        <th style=\"padding-left: 1em; padding-right: 1em; text-align: center\">vendorNo.1</th>\n",
       "    </tr>\n",
       "    <tr>\n",
       "        <td style=\"padding-left: 1em; padding-right: 1em; text-align: center; vertical-align: top\">F03269</td>\n",
       "    </tr>\n",
       "    <tr>\n",
       "        <td style=\"padding-left: 1em; padding-right: 1em; text-align: center; vertical-align: top\">F03269</td>\n",
       "    </tr>\n",
       "    <tr>\n",
       "        <td style=\"padding-left: 1em; padding-right: 1em; text-align: center; vertical-align: top\">F03269</td>\n",
       "    </tr>\n",
       "    <tr>\n",
       "        <td style=\"padding-left: 1em; padding-right: 1em; text-align: center; vertical-align: top\">F03269</td>\n",
       "    </tr>\n",
       "    <tr>\n",
       "        <td style=\"padding-left: 1em; padding-right: 1em; text-align: center; vertical-align: top\">F03269</td>\n",
       "    </tr>\n",
       "    <tr>\n",
       "        <td style=\"padding-left: 1em; padding-right: 1em; text-align: center; vertical-align: top\">F03269</td>\n",
       "    </tr>\n",
       "    <tr>\n",
       "        <td style=\"padding-left: 1em; padding-right: 1em; text-align: center; vertical-align: top\">F03269</td>\n",
       "    </tr>\n",
       "    <tr>\n",
       "        <td style=\"padding-left: 1em; padding-right: 1em; text-align: center; vertical-align: top\">F03269</td>\n",
       "    </tr>\n",
       "    <tr>\n",
       "        <td style=\"padding-left: 1em; padding-right: 1em; text-align: center; vertical-align: top\">F03269</td>\n",
       "    </tr>\n",
       "    <tr>\n",
       "        <td style=\"padding-left: 1em; padding-right: 1em; text-align: center; vertical-align: top\">F03269</td>\n",
       "    </tr>\n",
       "</table>\n",
       "[10 rows x 22 columns]<br/>\n",
       "</div>"
      ],
      "text/plain": [
       "Columns:\n",
       "\titemKey\tstr\n",
       "\tsimilar\tstr\n",
       "\tscore\tfloat\n",
       "\trank\tint\n",
       "\tcodMarchio\tstr\n",
       "\titemDescription\tstr\n",
       "\tmarchio\tstr\n",
       "\treparto\tstr\n",
       "\tsesso\tstr\n",
       "\tsport\tstr\n",
       "\ttipo\tstr\n",
       "\tvendorItemNo\tstr\n",
       "\tvendorNo\tstr\n",
       "\tcodMarchio.1\tstr\n",
       "\titemDescription.1\tstr\n",
       "\tmarchio.1\tstr\n",
       "\treparto.1\tstr\n",
       "\tsesso.1\tstr\n",
       "\tsport.1\tstr\n",
       "\ttipo.1\tstr\n",
       "\tvendorItemNo.1\tstr\n",
       "\tvendorNo.1\tstr\n",
       "\n",
       "Rows: 10\n",
       "\n",
       "Data:\n",
       "+-------------------------------+-------------------------------+-------+------+\n",
       "|            itemKey            |            similar            | score | rank |\n",
       "+-------------------------------+-------------------------------+-------+------+\n",
       "| N04-00011038-3A dei F_lli ... | N04-00013553-3A dei F_lli ... |  1.0  |  1   |\n",
       "| N04-00011038-3A dei F_lli ... | N04-00001544-3A dei F_lli ... |  1.0  |  2   |\n",
       "| N04-00011038-3A dei F_lli ... | N04-00008851-3A dei F_lli ... |  1.0  |  3   |\n",
       "| N04-00011038-3A dei F_lli ... | N04-00011028-3A dei F_lli ... |  1.0  |  4   |\n",
       "| N04-00011038-3A dei F_lli ... | N04-00011190-3A dei F_lli ... |  1.0  |  5   |\n",
       "| N04-00011038-3A dei F_lli ... | N04-00011191-3A dei F_lli ... |  1.0  |  6   |\n",
       "| N04-00011038-3A dei F_lli ... | N04-00011594-3A dei F_lli ... |  1.0  |  7   |\n",
       "| N04-00011038-3A dei F_lli ... | N04-00011596-3A dei F_lli ... |  1.0  |  8   |\n",
       "| N04-00011038-3A dei F_lli ... | N04-00001547-3A dei F_lli ... |  0.5  |  9   |\n",
       "| N04-00011038-3A dei F_lli ... | N04-00013031-3A dei F_lli ... |  0.5  |  10  |\n",
       "+-------------------------------+-------------------------------+-------+------+\n",
       "+------------+---------------------------+---------+-----------+-------+\n",
       "| codMarchio |      itemDescription      | marchio |  reparto  | sesso |\n",
       "+------------+---------------------------+---------+-----------+-------+\n",
       "|    N04     | WMNS NIKE COURT ROYALE SE |   NIKE  | CALZATURE | DONNA |\n",
       "|    N04     | WMNS NIKE COURT ROYALE SE |   NIKE  | CALZATURE | DONNA |\n",
       "|    N04     | WMNS NIKE COURT ROYALE SE |   NIKE  | CALZATURE | DONNA |\n",
       "|    N04     | WMNS NIKE COURT ROYALE SE |   NIKE  | CALZATURE | DONNA |\n",
       "|    N04     | WMNS NIKE COURT ROYALE SE |   NIKE  | CALZATURE | DONNA |\n",
       "|    N04     | WMNS NIKE COURT ROYALE SE |   NIKE  | CALZATURE | DONNA |\n",
       "|    N04     | WMNS NIKE COURT ROYALE SE |   NIKE  | CALZATURE | DONNA |\n",
       "|    N04     | WMNS NIKE COURT ROYALE SE |   NIKE  | CALZATURE | DONNA |\n",
       "|    N04     | WMNS NIKE COURT ROYALE SE |   NIKE  | CALZATURE | DONNA |\n",
       "|    N04     | WMNS NIKE COURT ROYALE SE |   NIKE  | CALZATURE | DONNA |\n",
       "+------------+---------------------------+---------+-----------+-------+\n",
       "+------------------------+--------+--------------+----------+--------------+\n",
       "|         sport          |  tipo  | vendorItemNo | vendorNo | codMarchio.1 |\n",
       "+------------------------+--------+--------------+----------+--------------+\n",
       "| TEMPO LIBERO PRIMAVERA | SCARPE |  AA2170-600  |  F03269  |     N04      |\n",
       "| TEMPO LIBERO PRIMAVERA | SCARPE |  AA2170-600  |  F03269  |     N04      |\n",
       "| TEMPO LIBERO PRIMAVERA | SCARPE |  AA2170-600  |  F03269  |     N04      |\n",
       "| TEMPO LIBERO PRIMAVERA | SCARPE |  AA2170-600  |  F03269  |     N04      |\n",
       "| TEMPO LIBERO PRIMAVERA | SCARPE |  AA2170-600  |  F03269  |     N04      |\n",
       "| TEMPO LIBERO PRIMAVERA | SCARPE |  AA2170-600  |  F03269  |     N04      |\n",
       "| TEMPO LIBERO PRIMAVERA | SCARPE |  AA2170-600  |  F03269  |     N04      |\n",
       "| TEMPO LIBERO PRIMAVERA | SCARPE |  AA2170-600  |  F03269  |     N04      |\n",
       "| TEMPO LIBERO PRIMAVERA | SCARPE |  AA2170-600  |  F03269  |     N04      |\n",
       "| TEMPO LIBERO PRIMAVERA | SCARPE |  AA2170-600  |  F03269  |     N04      |\n",
       "+------------------------+--------+--------------+----------+--------------+\n",
       "+--------------------------------+-----------+-----------+---------+\n",
       "|       itemDescription.1        | marchio.1 | reparto.1 | sesso.1 |\n",
       "+--------------------------------+-----------+-----------+---------+\n",
       "| NIKE COURT BOROUGH LOW SE (GS) |    NIKE   | CALZATURE |  JUNIOR |\n",
       "|   NIKE SUNRAY ADJUST 4 (TD)    |    NIKE   | CALZATURE |  JUNIOR |\n",
       "|       NIKE AIR MAX FURY        |    NIKE   | CALZATURE |   UOMO  |\n",
       "|     NIKE AIR MAX AXIS (GS)     |    NIKE   | CALZATURE |  JUNIOR |\n",
       "|     NIKE AIR MAX AXIS (TD)     |    NIKE   | CALZATURE |  JUNIOR |\n",
       "|     NIKE AIR MAX AXIS (TD)     |    NIKE   | CALZATURE |  JUNIOR |\n",
       "|    NIKE SB CHECK CNVS (PS)     |    NIKE   | CALZATURE |  JUNIOR |\n",
       "|    NIKE SB CHECK CNVS (TD)     |    NIKE   | CALZATURE |  JUNIOR |\n",
       "|   NIKE SUNRAY ADJUST 4 (TD)    |    NIKE   | CALZATURE |  JUNIOR |\n",
       "|  NIKE COURT BOROUGH MID (PSV)  |    NIKE   | CALZATURE |  JUNIOR |\n",
       "+--------------------------------+-----------+-----------+---------+\n",
       "+------------------------+--------+-----+\n",
       "|        sport.1         | tipo.1 | ... |\n",
       "+------------------------+--------+-----+\n",
       "| TEMPO LIBERO PRIMAVERA | SCARPE | ... |\n",
       "| TEMPO LIBERO PRIMAVERA | SCARPE | ... |\n",
       "|     RUNNING/CORSA      | SCARPE | ... |\n",
       "| TEMPO LIBERO PRIMAVERA | SCARPE | ... |\n",
       "| TEMPO LIBERO PRIMAVERA | SCARPE | ... |\n",
       "| TEMPO LIBERO PRIMAVERA | SCARPE | ... |\n",
       "| TEMPO LIBERO PRIMAVERA | SCARPE | ... |\n",
       "| TEMPO LIBERO PRIMAVERA | SCARPE | ... |\n",
       "| TEMPO LIBERO PRIMAVERA | SCARPE | ... |\n",
       "| TEMPO LIBERO PRIMAVERA | SCARPE | ... |\n",
       "+------------------------+--------+-----+\n",
       "[10 rows x 22 columns]"
      ]
     },
     "execution_count": 22,
     "metadata": {},
     "output_type": "execute_result"
    }
   ],
   "source": [
    "similar_purchases = model_pers.get_similar_items(products)\n",
    "similar_purchases = similar_purchases.join(dicItem, on = 'itemKey', how = 'inner').join(dicItem, on = {'similar':'itemKey'}, how = 'inner')\n",
    "similar_purchases.head(10)"
   ]
  },
  {
   "cell_type": "markdown",
   "metadata": {},
   "source": [
    "### 5. Lastly save the results/dataset as required  #####"
   ]
  },
  {
   "cell_type": "code",
   "execution_count": 23,
   "metadata": {},
   "outputs": [],
   "source": [
    "########## Export PERS_output as json/csv\n",
    "#persRecommend_RP.export_json('./output/personalizedRecommend_RP.json', orient='records')\n",
    "#persRecommend_RP.save('./output/personalizedRecommend_RP.csv', format='csv')"
   ]
  },
  {
   "cell_type": "code",
   "execution_count": 24,
   "metadata": {},
   "outputs": [],
   "source": [
    "########## Export POP_output as json/csv\n",
    "#ecommended_pop.export_json('./output/AAP/popularRecommend_AAP.json', orient='records')\n",
    "#recommended_pop.save('./output/AAP/popularRecommend_AAP.csv', format='csv')\n",
    "\n",
    "########## Export of most Similarly purchased product pairs as json/csv\n",
    "#similar_purchases.export_json('./output/similarPurchases_AAP.json', orient='records')\n",
    "#similar_purchases.save('./output/similarPurchases_AAP.csv', format='csv')"
   ]
  },
  {
   "cell_type": "markdown",
   "metadata": {},
   "source": [
    "### 6. Verify results for the personalized model"
   ]
  },
  {
   "cell_type": "code",
   "execution_count": 25,
   "metadata": {},
   "outputs": [
    {
     "data": {
      "text/html": [
       "<pre>Finished parsing file C:\\Users\\festo.owiny\\Desktop\\recommend\\output\\personalizedRecommend_AAP.csv</pre>"
      ],
      "text/plain": [
       "Finished parsing file C:\\Users\\festo.owiny\\Desktop\\recommend\\output\\personalizedRecommend_AAP.csv"
      ]
     },
     "metadata": {},
     "output_type": "display_data"
    },
    {
     "data": {
      "text/html": [
       "<pre>Parsing completed. Parsed 100 lines in 0.077006 secs.</pre>"
      ],
      "text/plain": [
       "Parsing completed. Parsed 100 lines in 0.077006 secs."
      ]
     },
     "metadata": {},
     "output_type": "display_data"
    },
    {
     "name": "stdout",
     "output_type": "stream",
     "text": [
      "------------------------------------------------------\n",
      "Inferred types from first 100 line(s) of file as \n",
      "column_type_hints=[str,str,long,long,str,str,str,str,str,str,str,str,str,str]\n",
      "If parsing fails due to incorrect types, you can correct\n",
      "the inferred type list above and pass it to read_csv in\n",
      "the column_type_hints argument\n",
      "------------------------------------------------------\n"
     ]
    },
    {
     "data": {
      "text/html": [
       "<pre>Finished parsing file C:\\Users\\festo.owiny\\Desktop\\recommend\\output\\personalizedRecommend_AAP.csv</pre>"
      ],
      "text/plain": [
       "Finished parsing file C:\\Users\\festo.owiny\\Desktop\\recommend\\output\\personalizedRecommend_AAP.csv"
      ]
     },
     "metadata": {},
     "output_type": "display_data"
    },
    {
     "data": {
      "text/html": [
       "<pre>Parsing completed. Parsed 740 lines in 0.053993 secs.</pre>"
      ],
      "text/plain": [
       "Parsing completed. Parsed 740 lines in 0.053993 secs."
      ]
     },
     "metadata": {},
     "output_type": "display_data"
    },
    {
     "data": {
      "text/html": [
       "<pre>Finished parsing file C:\\Users\\festo.owiny\\Desktop\\recommend\\output\\personalizedRecommend_RP.csv</pre>"
      ],
      "text/plain": [
       "Finished parsing file C:\\Users\\festo.owiny\\Desktop\\recommend\\output\\personalizedRecommend_RP.csv"
      ]
     },
     "metadata": {},
     "output_type": "display_data"
    },
    {
     "data": {
      "text/html": [
       "<pre>Parsing completed. Parsed 100 lines in 0.218207 secs.</pre>"
      ],
      "text/plain": [
       "Parsing completed. Parsed 100 lines in 0.218207 secs."
      ]
     },
     "metadata": {},
     "output_type": "display_data"
    },
    {
     "name": "stdout",
     "output_type": "stream",
     "text": [
      "------------------------------------------------------\n",
      "Inferred types from first 100 line(s) of file as \n",
      "column_type_hints=[str,str,float,long,str,str,str,str,str,str,str,str,str,str]\n",
      "If parsing fails due to incorrect types, you can correct\n",
      "the inferred type list above and pass it to read_csv in\n",
      "the column_type_hints argument\n",
      "------------------------------------------------------\n"
     ]
    },
    {
     "data": {
      "text/html": [
       "<pre>Finished parsing file C:\\Users\\festo.owiny\\Desktop\\recommend\\output\\personalizedRecommend_RP.csv</pre>"
      ],
      "text/plain": [
       "Finished parsing file C:\\Users\\festo.owiny\\Desktop\\recommend\\output\\personalizedRecommend_RP.csv"
      ]
     },
     "metadata": {},
     "output_type": "display_data"
    },
    {
     "data": {
      "text/html": [
       "<pre>Parsing completed. Parsed 9230 lines in 0.153396 secs.</pre>"
      ],
      "text/plain": [
       "Parsing completed. Parsed 9230 lines in 0.153396 secs."
      ]
     },
     "metadata": {},
     "output_type": "display_data"
    }
   ],
   "source": [
    "result_AAP = gl.SFrame.read_csv('./output/personalizedRecommend_AAP.csv')\n",
    "result_RP = gl.SFrame.read_csv('./output/personalizedRecommend_RP.csv')"
   ]
  },
  {
   "cell_type": "code",
   "execution_count": 26,
   "metadata": {},
   "outputs": [],
   "source": [
    "vAAP = persRecommend_RP[persRecommend_RP['codMarchio']=='N04']"
   ]
  },
  {
   "cell_type": "code",
   "execution_count": 27,
   "metadata": {},
   "outputs": [
    {
     "name": "stdout",
     "output_type": "stream",
     "text": [
      "740 9230 6064\n"
     ]
    }
   ],
   "source": [
    "print len(result_AAP), len(result_RP), len(vAAP)"
   ]
  },
  {
   "cell_type": "code",
   "execution_count": 28,
   "metadata": {},
   "outputs": [
    {
     "name": "stdout",
     "output_type": "stream",
     "text": [
      "['N04'] ['J11']\n"
     ]
    }
   ],
   "source": [
    "r1 = result_AAP[result_AAP['customerKey']=='C06423-3A dei F_lli Antonini S_p_a_']['codMarchio'].unique()\n",
    "p1 = result_RP[result_RP['customerKey']=='C06423-3A dei F_lli Antonini S_p_a_']['codMarchio'].unique()\n",
    "print r1, p1"
   ]
  },
  {
   "cell_type": "code",
   "execution_count": 29,
   "metadata": {},
   "outputs": [
    {
     "name": "stdout",
     "output_type": "stream",
     "text": [
      "['N04'] ['J11', 'C49']\n"
     ]
    }
   ],
   "source": [
    "r2 = result_AAP[result_AAP['customerKey']=='C08099-3A dei F_lli Antonini S_p_a_']['codMarchio'].unique()\n",
    "p2 = result_RP[result_RP['customerKey']=='C08099-3A dei F_lli Antonini S_p_a_']['codMarchio'].unique()\n",
    "print r2, p2"
   ]
  },
  {
   "cell_type": "code",
   "execution_count": 30,
   "metadata": {},
   "outputs": [
    {
     "name": "stdout",
     "output_type": "stream",
     "text": [
      "['N04'] ['J11']\n"
     ]
    }
   ],
   "source": [
    "r3 = result_AAP[result_AAP['customerKey']=='C07033-3A dei F_lli Antonini S_p_a_']['codMarchio'].unique()\n",
    "p3 = result_RP[result_RP['customerKey']=='C07033-3A dei F_lli Antonini S_p_a_']['codMarchio'].unique()\n",
    "print r3, p3"
   ]
  },
  {
   "cell_type": "code",
   "execution_count": 31,
   "metadata": {},
   "outputs": [
    {
     "name": "stdout",
     "output_type": "stream",
     "text": [
      "['N04'] ['J11']\n"
     ]
    }
   ],
   "source": [
    "r4 = result_AAP[result_AAP['customerKey']=='C04708-3A dei F_lli Antonini S_p_a_']['codMarchio'].unique()\n",
    "p4 = result_RP[result_RP['customerKey']=='C04708-3A dei F_lli Antonini S_p_a_']['codMarchio'].unique()\n",
    "print r4, p4"
   ]
  },
  {
   "cell_type": "code",
   "execution_count": 32,
   "metadata": {},
   "outputs": [
    {
     "data": {
      "text/plain": [
       "'C04708-3A dei F_lli Antonini S_p_a_'"
      ]
     },
     "execution_count": 32,
     "metadata": {},
     "output_type": "execute_result"
    }
   ],
   "source": [
    "persRP_N04['customerKey'].unique()[30]"
   ]
  },
  {
   "cell_type": "code",
   "execution_count": 62,
   "metadata": {},
   "outputs": [],
   "source": [
    "#result_RP[result_RP['codMarchio'] != 'N04'  result_RP['codMarchio'] != 'J11'].unique()"
   ]
  },
  {
   "cell_type": "code",
   "execution_count": 38,
   "metadata": {},
   "outputs": [
    {
     "data": {
      "text/html": [
       "<div style=\"max-height:1000px;max-width:1500px;overflow:auto;\"><table frame=\"box\" rules=\"cols\">\n",
       "    <tr>\n",
       "        <th style=\"padding-left: 1em; padding-right: 1em; text-align: center\">customerKey</th>\n",
       "        <th style=\"padding-left: 1em; padding-right: 1em; text-align: center\">itemKey</th>\n",
       "        <th style=\"padding-left: 1em; padding-right: 1em; text-align: center\">score</th>\n",
       "        <th style=\"padding-left: 1em; padding-right: 1em; text-align: center\">rank</th>\n",
       "        <th style=\"padding-left: 1em; padding-right: 1em; text-align: center\">customerName</th>\n",
       "        <th style=\"padding-left: 1em; padding-right: 1em; text-align: center\">codMarchio</th>\n",
       "    </tr>\n",
       "    <tr>\n",
       "        <td style=\"padding-left: 1em; padding-right: 1em; text-align: center; vertical-align: top\">C06981-3A dei F_lli<br>Antonini S_p_a_ ...</td>\n",
       "        <td style=\"padding-left: 1em; padding-right: 1em; text-align: center; vertical-align: top\">N04-00009233-3A dei F_lli<br>Antonini S_p_a_ ...</td>\n",
       "        <td style=\"padding-left: 1em; padding-right: 1em; text-align: center; vertical-align: top\">7</td>\n",
       "        <td style=\"padding-left: 1em; padding-right: 1em; text-align: center; vertical-align: top\">7</td>\n",
       "        <td style=\"padding-left: 1em; padding-right: 1em; text-align: center; vertical-align: top\">CENTER SPORT DI PASCOLINI<br>VALENTINA ...</td>\n",
       "        <td style=\"padding-left: 1em; padding-right: 1em; text-align: center; vertical-align: top\">N04</td>\n",
       "    </tr>\n",
       "    <tr>\n",
       "        <td style=\"padding-left: 1em; padding-right: 1em; text-align: center; vertical-align: top\">C07121-3A dei F_lli<br>Antonini S_p_a_ ...</td>\n",
       "        <td style=\"padding-left: 1em; padding-right: 1em; text-align: center; vertical-align: top\">N04-00001024-3A dei F_lli<br>Antonini S_p_a_ ...</td>\n",
       "        <td style=\"padding-left: 1em; padding-right: 1em; text-align: center; vertical-align: top\">7</td>\n",
       "        <td style=\"padding-left: 1em; padding-right: 1em; text-align: center; vertical-align: top\">9</td>\n",
       "        <td style=\"padding-left: 1em; padding-right: 1em; text-align: center; vertical-align: top\">AREA SPORT SRL</td>\n",
       "        <td style=\"padding-left: 1em; padding-right: 1em; text-align: center; vertical-align: top\">N04</td>\n",
       "    </tr>\n",
       "    <tr>\n",
       "        <td style=\"padding-left: 1em; padding-right: 1em; text-align: center; vertical-align: top\">C06981-3A dei F_lli<br>Antonini S_p_a_ ...</td>\n",
       "        <td style=\"padding-left: 1em; padding-right: 1em; text-align: center; vertical-align: top\">N04-00001024-3A dei F_lli<br>Antonini S_p_a_ ...</td>\n",
       "        <td style=\"padding-left: 1em; padding-right: 1em; text-align: center; vertical-align: top\">7</td>\n",
       "        <td style=\"padding-left: 1em; padding-right: 1em; text-align: center; vertical-align: top\">8</td>\n",
       "        <td style=\"padding-left: 1em; padding-right: 1em; text-align: center; vertical-align: top\">CENTER SPORT DI PASCOLINI<br>VALENTINA ...</td>\n",
       "        <td style=\"padding-left: 1em; padding-right: 1em; text-align: center; vertical-align: top\">N04</td>\n",
       "    </tr>\n",
       "    <tr>\n",
       "        <td style=\"padding-left: 1em; padding-right: 1em; text-align: center; vertical-align: top\">C07146-3A dei F_lli<br>Antonini S_p_a_ ...</td>\n",
       "        <td style=\"padding-left: 1em; padding-right: 1em; text-align: center; vertical-align: top\">N04-00002835-3A dei F_lli<br>Antonini S_p_a_ ...</td>\n",
       "        <td style=\"padding-left: 1em; padding-right: 1em; text-align: center; vertical-align: top\">9</td>\n",
       "        <td style=\"padding-left: 1em; padding-right: 1em; text-align: center; vertical-align: top\">8</td>\n",
       "        <td style=\"padding-left: 1em; padding-right: 1em; text-align: center; vertical-align: top\">SPORT SERVICE SRL</td>\n",
       "        <td style=\"padding-left: 1em; padding-right: 1em; text-align: center; vertical-align: top\">N04</td>\n",
       "    </tr>\n",
       "    <tr>\n",
       "        <td style=\"padding-left: 1em; padding-right: 1em; text-align: center; vertical-align: top\">C03782-3A dei F_lli<br>Antonini S_p_a_ ...</td>\n",
       "        <td style=\"padding-left: 1em; padding-right: 1em; text-align: center; vertical-align: top\">N04-00002835-3A dei F_lli<br>Antonini S_p_a_ ...</td>\n",
       "        <td style=\"padding-left: 1em; padding-right: 1em; text-align: center; vertical-align: top\">9</td>\n",
       "        <td style=\"padding-left: 1em; padding-right: 1em; text-align: center; vertical-align: top\">9</td>\n",
       "        <td style=\"padding-left: 1em; padding-right: 1em; text-align: center; vertical-align: top\">VACANZE 2000 SRL</td>\n",
       "        <td style=\"padding-left: 1em; padding-right: 1em; text-align: center; vertical-align: top\">N04</td>\n",
       "    </tr>\n",
       "</table>\n",
       "<table frame=\"box\" rules=\"cols\">\n",
       "    <tr>\n",
       "        <th style=\"padding-left: 1em; padding-right: 1em; text-align: center\">itemDescription</th>\n",
       "        <th style=\"padding-left: 1em; padding-right: 1em; text-align: center\">marchio</th>\n",
       "        <th style=\"padding-left: 1em; padding-right: 1em; text-align: center\">reparto</th>\n",
       "        <th style=\"padding-left: 1em; padding-right: 1em; text-align: center\">sesso</th>\n",
       "        <th style=\"padding-left: 1em; padding-right: 1em; text-align: center\">sport</th>\n",
       "        <th style=\"padding-left: 1em; padding-right: 1em; text-align: center\">tipo</th>\n",
       "        <th style=\"padding-left: 1em; padding-right: 1em; text-align: center\">vendorItemNo</th>\n",
       "        <th style=\"padding-left: 1em; padding-right: 1em; text-align: center\">vendorNo</th>\n",
       "    </tr>\n",
       "    <tr>\n",
       "        <td style=\"padding-left: 1em; padding-right: 1em; text-align: center; vertical-align: top\">NIKE REVOLUTION 4 EU</td>\n",
       "        <td style=\"padding-left: 1em; padding-right: 1em; text-align: center; vertical-align: top\">NIKE</td>\n",
       "        <td style=\"padding-left: 1em; padding-right: 1em; text-align: center; vertical-align: top\">CALZATURE</td>\n",
       "        <td style=\"padding-left: 1em; padding-right: 1em; text-align: center; vertical-align: top\">UOMO</td>\n",
       "        <td style=\"padding-left: 1em; padding-right: 1em; text-align: center; vertical-align: top\">RUNNING/CORSA</td>\n",
       "        <td style=\"padding-left: 1em; padding-right: 1em; text-align: center; vertical-align: top\">SCARPE</td>\n",
       "        <td style=\"padding-left: 1em; padding-right: 1em; text-align: center; vertical-align: top\">AJ3490-001</td>\n",
       "        <td style=\"padding-left: 1em; padding-right: 1em; text-align: center; vertical-align: top\">F03269</td>\n",
       "    </tr>\n",
       "    <tr>\n",
       "        <td style=\"padding-left: 1em; padding-right: 1em; text-align: center; vertical-align: top\">NIKE TEAM HUSTLE D 8 (GS)</td>\n",
       "        <td style=\"padding-left: 1em; padding-right: 1em; text-align: center; vertical-align: top\">NIKE</td>\n",
       "        <td style=\"padding-left: 1em; padding-right: 1em; text-align: center; vertical-align: top\">CALZATURE</td>\n",
       "        <td style=\"padding-left: 1em; padding-right: 1em; text-align: center; vertical-align: top\">JUNIOR</td>\n",
       "        <td style=\"padding-left: 1em; padding-right: 1em; text-align: center; vertical-align: top\">TEMPO LIBERO PRIMAVERA</td>\n",
       "        <td style=\"padding-left: 1em; padding-right: 1em; text-align: center; vertical-align: top\">SCARPE</td>\n",
       "        <td style=\"padding-left: 1em; padding-right: 1em; text-align: center; vertical-align: top\">881941-100</td>\n",
       "        <td style=\"padding-left: 1em; padding-right: 1em; text-align: center; vertical-align: top\">F03269</td>\n",
       "    </tr>\n",
       "    <tr>\n",
       "        <td style=\"padding-left: 1em; padding-right: 1em; text-align: center; vertical-align: top\">NIKE TEAM HUSTLE D 8 (GS)</td>\n",
       "        <td style=\"padding-left: 1em; padding-right: 1em; text-align: center; vertical-align: top\">NIKE</td>\n",
       "        <td style=\"padding-left: 1em; padding-right: 1em; text-align: center; vertical-align: top\">CALZATURE</td>\n",
       "        <td style=\"padding-left: 1em; padding-right: 1em; text-align: center; vertical-align: top\">JUNIOR</td>\n",
       "        <td style=\"padding-left: 1em; padding-right: 1em; text-align: center; vertical-align: top\">TEMPO LIBERO PRIMAVERA</td>\n",
       "        <td style=\"padding-left: 1em; padding-right: 1em; text-align: center; vertical-align: top\">SCARPE</td>\n",
       "        <td style=\"padding-left: 1em; padding-right: 1em; text-align: center; vertical-align: top\">881941-100</td>\n",
       "        <td style=\"padding-left: 1em; padding-right: 1em; text-align: center; vertical-align: top\">F03269</td>\n",
       "    </tr>\n",
       "    <tr>\n",
       "        <td style=\"padding-left: 1em; padding-right: 1em; text-align: center; vertical-align: top\">3PPK VALUE COTTON CREW-<br>SMLX ...</td>\n",
       "        <td style=\"padding-left: 1em; padding-right: 1em; text-align: center; vertical-align: top\">NIKE</td>\n",
       "        <td style=\"padding-left: 1em; padding-right: 1em; text-align: center; vertical-align: top\">ACCESSORI</td>\n",
       "        <td style=\"padding-left: 1em; padding-right: 1em; text-align: center; vertical-align: top\">UOMO</td>\n",
       "        <td style=\"padding-left: 1em; padding-right: 1em; text-align: center; vertical-align: top\">FITNESS/ALLENAMENTO</td>\n",
       "        <td style=\"padding-left: 1em; padding-right: 1em; text-align: center; vertical-align: top\">CALZE</td>\n",
       "        <td style=\"padding-left: 1em; padding-right: 1em; text-align: center; vertical-align: top\">SX4508-101</td>\n",
       "        <td style=\"padding-left: 1em; padding-right: 1em; text-align: center; vertical-align: top\">F03269</td>\n",
       "    </tr>\n",
       "    <tr>\n",
       "        <td style=\"padding-left: 1em; padding-right: 1em; text-align: center; vertical-align: top\">3PPK VALUE COTTON CREW-<br>SMLX ...</td>\n",
       "        <td style=\"padding-left: 1em; padding-right: 1em; text-align: center; vertical-align: top\">NIKE</td>\n",
       "        <td style=\"padding-left: 1em; padding-right: 1em; text-align: center; vertical-align: top\">ACCESSORI</td>\n",
       "        <td style=\"padding-left: 1em; padding-right: 1em; text-align: center; vertical-align: top\">UOMO</td>\n",
       "        <td style=\"padding-left: 1em; padding-right: 1em; text-align: center; vertical-align: top\">FITNESS/ALLENAMENTO</td>\n",
       "        <td style=\"padding-left: 1em; padding-right: 1em; text-align: center; vertical-align: top\">CALZE</td>\n",
       "        <td style=\"padding-left: 1em; padding-right: 1em; text-align: center; vertical-align: top\">SX4508-101</td>\n",
       "        <td style=\"padding-left: 1em; padding-right: 1em; text-align: center; vertical-align: top\">F03269</td>\n",
       "    </tr>\n",
       "</table>\n",
       "[5 rows x 14 columns]<br/>\n",
       "</div>"
      ],
      "text/plain": [
       "Columns:\n",
       "\tcustomerKey\tstr\n",
       "\titemKey\tstr\n",
       "\tscore\tint\n",
       "\trank\tint\n",
       "\tcustomerName\tstr\n",
       "\tcodMarchio\tstr\n",
       "\titemDescription\tstr\n",
       "\tmarchio\tstr\n",
       "\treparto\tstr\n",
       "\tsesso\tstr\n",
       "\tsport\tstr\n",
       "\ttipo\tstr\n",
       "\tvendorItemNo\tstr\n",
       "\tvendorNo\tstr\n",
       "\n",
       "Rows: 5\n",
       "\n",
       "Data:\n",
       "+-------------------------------+-------------------------------+-------+------+\n",
       "|          customerKey          |            itemKey            | score | rank |\n",
       "+-------------------------------+-------------------------------+-------+------+\n",
       "| C06981-3A dei F_lli Antoni... | N04-00009233-3A dei F_lli ... |   7   |  7   |\n",
       "| C07121-3A dei F_lli Antoni... | N04-00001024-3A dei F_lli ... |   7   |  9   |\n",
       "| C06981-3A dei F_lli Antoni... | N04-00001024-3A dei F_lli ... |   7   |  8   |\n",
       "| C07146-3A dei F_lli Antoni... | N04-00002835-3A dei F_lli ... |   9   |  8   |\n",
       "| C03782-3A dei F_lli Antoni... | N04-00002835-3A dei F_lli ... |   9   |  9   |\n",
       "+-------------------------------+-------------------------------+-------+------+\n",
       "+-------------------------------+------------+-----------------------------+\n",
       "|          customerName         | codMarchio |       itemDescription       |\n",
       "+-------------------------------+------------+-----------------------------+\n",
       "| CENTER SPORT DI PASCOLINI ... |    N04     |     NIKE REVOLUTION 4 EU    |\n",
       "|         AREA SPORT SRL        |    N04     |  NIKE TEAM HUSTLE D 8 (GS)  |\n",
       "| CENTER SPORT DI PASCOLINI ... |    N04     |  NIKE TEAM HUSTLE D 8 (GS)  |\n",
       "|       SPORT SERVICE SRL       |    N04     | 3PPK VALUE COTTON CREW-SMLX |\n",
       "|        VACANZE 2000 SRL       |    N04     | 3PPK VALUE COTTON CREW-SMLX |\n",
       "+-------------------------------+------------+-----------------------------+\n",
       "+---------+-----------+--------+------------------------+--------+--------------+\n",
       "| marchio |  reparto  | sesso  |         sport          |  tipo  | vendorItemNo |\n",
       "+---------+-----------+--------+------------------------+--------+--------------+\n",
       "|   NIKE  | CALZATURE |  UOMO  |     RUNNING/CORSA      | SCARPE |  AJ3490-001  |\n",
       "|   NIKE  | CALZATURE | JUNIOR | TEMPO LIBERO PRIMAVERA | SCARPE |  881941-100  |\n",
       "|   NIKE  | CALZATURE | JUNIOR | TEMPO LIBERO PRIMAVERA | SCARPE |  881941-100  |\n",
       "|   NIKE  | ACCESSORI |  UOMO  |  FITNESS/ALLENAMENTO   | CALZE  |  SX4508-101  |\n",
       "|   NIKE  | ACCESSORI |  UOMO  |  FITNESS/ALLENAMENTO   | CALZE  |  SX4508-101  |\n",
       "+---------+-----------+--------+------------------------+--------+--------------+\n",
       "+----------+\n",
       "| vendorNo |\n",
       "+----------+\n",
       "|  F03269  |\n",
       "|  F03269  |\n",
       "|  F03269  |\n",
       "|  F03269  |\n",
       "|  F03269  |\n",
       "+----------+\n",
       "[5 rows x 14 columns]"
      ]
     },
     "execution_count": 38,
     "metadata": {},
     "output_type": "execute_result"
    }
   ],
   "source": [
    "result_AAP.head(5)"
   ]
  },
  {
   "cell_type": "code",
   "execution_count": 37,
   "metadata": {},
   "outputs": [
    {
     "data": {
      "text/html": [
       "<div style=\"max-height:1000px;max-width:1500px;overflow:auto;\"><table frame=\"box\" rules=\"cols\">\n",
       "    <tr>\n",
       "        <th style=\"padding-left: 1em; padding-right: 1em; text-align: center\">customerKey</th>\n",
       "        <th style=\"padding-left: 1em; padding-right: 1em; text-align: center\">itemKey</th>\n",
       "        <th style=\"padding-left: 1em; padding-right: 1em; text-align: center\">score</th>\n",
       "        <th style=\"padding-left: 1em; padding-right: 1em; text-align: center\">rank</th>\n",
       "        <th style=\"padding-left: 1em; padding-right: 1em; text-align: center\">customerName</th>\n",
       "        <th style=\"padding-left: 1em; padding-right: 1em; text-align: center\">codMarchio</th>\n",
       "    </tr>\n",
       "    <tr>\n",
       "        <td style=\"padding-left: 1em; padding-right: 1em; text-align: center; vertical-align: top\">C02282-3A dei F_lli<br>Antonini S_p_a_ ...</td>\n",
       "        <td style=\"padding-left: 1em; padding-right: 1em; text-align: center; vertical-align: top\">NSW-00000054-3A dei F_lli<br>Antonini S_p_a_ ...</td>\n",
       "        <td style=\"padding-left: 1em; padding-right: 1em; text-align: center; vertical-align: top\">0.0333333</td>\n",
       "        <td style=\"padding-left: 1em; padding-right: 1em; text-align: center; vertical-align: top\">1</td>\n",
       "        <td style=\"padding-left: 1em; padding-right: 1em; text-align: center; vertical-align: top\">CILLO DI BONI ITALO</td>\n",
       "        <td style=\"padding-left: 1em; padding-right: 1em; text-align: center; vertical-align: top\">NSW</td>\n",
       "    </tr>\n",
       "    <tr>\n",
       "        <td style=\"padding-left: 1em; padding-right: 1em; text-align: center; vertical-align: top\">C02282-3A dei F_lli<br>Antonini S_p_a_ ...</td>\n",
       "        <td style=\"padding-left: 1em; padding-right: 1em; text-align: center; vertical-align: top\">NSW-00000108-3A dei F_lli<br>Antonini S_p_a_ ...</td>\n",
       "        <td style=\"padding-left: 1em; padding-right: 1em; text-align: center; vertical-align: top\">0.031746</td>\n",
       "        <td style=\"padding-left: 1em; padding-right: 1em; text-align: center; vertical-align: top\">2</td>\n",
       "        <td style=\"padding-left: 1em; padding-right: 1em; text-align: center; vertical-align: top\">CILLO DI BONI ITALO</td>\n",
       "        <td style=\"padding-left: 1em; padding-right: 1em; text-align: center; vertical-align: top\">NSW</td>\n",
       "    </tr>\n",
       "    <tr>\n",
       "        <td style=\"padding-left: 1em; padding-right: 1em; text-align: center; vertical-align: top\">C02282-3A dei F_lli<br>Antonini S_p_a_ ...</td>\n",
       "        <td style=\"padding-left: 1em; padding-right: 1em; text-align: center; vertical-align: top\">N29-00001331-3A dei F_lli<br>Antonini S_p_a_ ...</td>\n",
       "        <td style=\"padding-left: 1em; padding-right: 1em; text-align: center; vertical-align: top\">0.0</td>\n",
       "        <td style=\"padding-left: 1em; padding-right: 1em; text-align: center; vertical-align: top\">3</td>\n",
       "        <td style=\"padding-left: 1em; padding-right: 1em; text-align: center; vertical-align: top\">CILLO DI BONI ITALO</td>\n",
       "        <td style=\"padding-left: 1em; padding-right: 1em; text-align: center; vertical-align: top\">C49</td>\n",
       "    </tr>\n",
       "    <tr>\n",
       "        <td style=\"padding-left: 1em; padding-right: 1em; text-align: center; vertical-align: top\">C02282-3A dei F_lli<br>Antonini S_p_a_ ...</td>\n",
       "        <td style=\"padding-left: 1em; padding-right: 1em; text-align: center; vertical-align: top\">N29-00001783-3A dei F_lli<br>Antonini S_p_a_ ...</td>\n",
       "        <td style=\"padding-left: 1em; padding-right: 1em; text-align: center; vertical-align: top\">0.0</td>\n",
       "        <td style=\"padding-left: 1em; padding-right: 1em; text-align: center; vertical-align: top\">4</td>\n",
       "        <td style=\"padding-left: 1em; padding-right: 1em; text-align: center; vertical-align: top\">CILLO DI BONI ITALO</td>\n",
       "        <td style=\"padding-left: 1em; padding-right: 1em; text-align: center; vertical-align: top\">J11</td>\n",
       "    </tr>\n",
       "    <tr>\n",
       "        <td style=\"padding-left: 1em; padding-right: 1em; text-align: center; vertical-align: top\">C02282-3A dei F_lli<br>Antonini S_p_a_ ...</td>\n",
       "        <td style=\"padding-left: 1em; padding-right: 1em; text-align: center; vertical-align: top\">N29-00002924-3A dei F_lli<br>Antonini S_p_a_ ...</td>\n",
       "        <td style=\"padding-left: 1em; padding-right: 1em; text-align: center; vertical-align: top\">0.0</td>\n",
       "        <td style=\"padding-left: 1em; padding-right: 1em; text-align: center; vertical-align: top\">5</td>\n",
       "        <td style=\"padding-left: 1em; padding-right: 1em; text-align: center; vertical-align: top\">CILLO DI BONI ITALO</td>\n",
       "        <td style=\"padding-left: 1em; padding-right: 1em; text-align: center; vertical-align: top\">J11</td>\n",
       "    </tr>\n",
       "</table>\n",
       "<table frame=\"box\" rules=\"cols\">\n",
       "    <tr>\n",
       "        <th style=\"padding-left: 1em; padding-right: 1em; text-align: center\">itemDescription</th>\n",
       "        <th style=\"padding-left: 1em; padding-right: 1em; text-align: center\">marchio</th>\n",
       "        <th style=\"padding-left: 1em; padding-right: 1em; text-align: center\">reparto</th>\n",
       "        <th style=\"padding-left: 1em; padding-right: 1em; text-align: center\">sesso</th>\n",
       "        <th style=\"padding-left: 1em; padding-right: 1em; text-align: center\">sport</th>\n",
       "        <th style=\"padding-left: 1em; padding-right: 1em; text-align: center\">tipo</th>\n",
       "        <th style=\"padding-left: 1em; padding-right: 1em; text-align: center\">vendorItemNo</th>\n",
       "        <th style=\"padding-left: 1em; padding-right: 1em; text-align: center\">vendorNo</th>\n",
       "    </tr>\n",
       "    <tr>\n",
       "        <td style=\"padding-left: 1em; padding-right: 1em; text-align: center; vertical-align: top\">RACERBACK ONE PIECE</td>\n",
       "        <td style=\"padding-left: 1em; padding-right: 1em; text-align: center; vertical-align: top\">NIKE SWIM</td>\n",
       "        <td style=\"padding-left: 1em; padding-right: 1em; text-align: center; vertical-align: top\">ABBIGLIAMENTO</td>\n",
       "        <td style=\"padding-left: 1em; padding-right: 1em; text-align: center; vertical-align: top\">DONNA</td>\n",
       "        <td style=\"padding-left: 1em; padding-right: 1em; text-align: center; vertical-align: top\">PISCINA/MARE</td>\n",
       "        <td style=\"padding-left: 1em; padding-right: 1em; text-align: center; vertical-align: top\">COSTUME</td>\n",
       "        <td style=\"padding-left: 1em; padding-right: 1em; text-align: center; vertical-align: top\">NESS8074-001</td>\n",
       "        <td style=\"padding-left: 1em; padding-right: 1em; text-align: center; vertical-align: top\">F04335</td>\n",
       "    </tr>\n",
       "    <tr>\n",
       "        <td style=\"padding-left: 1em; padding-right: 1em; text-align: center; vertical-align: top\">RACERBACK ONE PIECE</td>\n",
       "        <td style=\"padding-left: 1em; padding-right: 1em; text-align: center; vertical-align: top\">NIKE SWIM</td>\n",
       "        <td style=\"padding-left: 1em; padding-right: 1em; text-align: center; vertical-align: top\">ABBIGLIAMENTO</td>\n",
       "        <td style=\"padding-left: 1em; padding-right: 1em; text-align: center; vertical-align: top\">DONNA</td>\n",
       "        <td style=\"padding-left: 1em; padding-right: 1em; text-align: center; vertical-align: top\">PISCINA/MARE</td>\n",
       "        <td style=\"padding-left: 1em; padding-right: 1em; text-align: center; vertical-align: top\">COSTUME</td>\n",
       "        <td style=\"padding-left: 1em; padding-right: 1em; text-align: center; vertical-align: top\">NESS8074-580</td>\n",
       "        <td style=\"padding-left: 1em; padding-right: 1em; text-align: center; vertical-align: top\">F04335</td>\n",
       "    </tr>\n",
       "    <tr>\n",
       "        <td style=\"padding-left: 1em; padding-right: 1em; text-align: center; vertical-align: top\">CTP SHINY SILICONE TEE</td>\n",
       "        <td style=\"padding-left: 1em; padding-right: 1em; text-align: center; vertical-align: top\">HADDAD CONVERSE</td>\n",
       "        <td style=\"padding-left: 1em; padding-right: 1em; text-align: center; vertical-align: top\">ABBIGLIAMENTO</td>\n",
       "        <td style=\"padding-left: 1em; padding-right: 1em; text-align: center; vertical-align: top\">JUNIOR</td>\n",
       "        <td style=\"padding-left: 1em; padding-right: 1em; text-align: center; vertical-align: top\">FASHION</td>\n",
       "        <td style=\"padding-left: 1em; padding-right: 1em; text-align: center; vertical-align: top\">T-SHIRT</td>\n",
       "        <td style=\"padding-left: 1em; padding-right: 1em; text-align: center; vertical-align: top\">868096-N3C</td>\n",
       "        <td style=\"padding-left: 1em; padding-right: 1em; text-align: center; vertical-align: top\">F04151</td>\n",
       "    </tr>\n",
       "    <tr>\n",
       "        <td style=\"padding-left: 1em; padding-right: 1em; text-align: center; vertical-align: top\">SESSION PACK</td>\n",
       "        <td style=\"padding-left: 1em; padding-right: 1em; text-align: center; vertical-align: top\">HADDAD JORDAN</td>\n",
       "        <td style=\"padding-left: 1em; padding-right: 1em; text-align: center; vertical-align: top\">ABBIGLIAMENTO</td>\n",
       "        <td style=\"padding-left: 1em; padding-right: 1em; text-align: center; vertical-align: top\">JUNIOR</td>\n",
       "        <td style=\"padding-left: 1em; padding-right: 1em; text-align: center; vertical-align: top\">FASHION</td>\n",
       "        <td style=\"padding-left: 1em; padding-right: 1em; text-align: center; vertical-align: top\">ZAINO</td>\n",
       "        <td style=\"padding-left: 1em; padding-right: 1em; text-align: center; vertical-align: top\">9A1985-G3X</td>\n",
       "        <td style=\"padding-left: 1em; padding-right: 1em; text-align: center; vertical-align: top\">F04343</td>\n",
       "    </tr>\n",
       "    <tr>\n",
       "        <td style=\"padding-left: 1em; padding-right: 1em; text-align: center; vertical-align: top\">AIR JORDAN RETRO 1 HIGH<br>CREW ...</td>\n",
       "        <td style=\"padding-left: 1em; padding-right: 1em; text-align: center; vertical-align: top\">HADDAD JORDAN</td>\n",
       "        <td style=\"padding-left: 1em; padding-right: 1em; text-align: center; vertical-align: top\">ABBIGLIAMENTO</td>\n",
       "        <td style=\"padding-left: 1em; padding-right: 1em; text-align: center; vertical-align: top\">JUNIOR</td>\n",
       "        <td style=\"padding-left: 1em; padding-right: 1em; text-align: center; vertical-align: top\">FASHION</td>\n",
       "        <td style=\"padding-left: 1em; padding-right: 1em; text-align: center; vertical-align: top\">CALZE</td>\n",
       "        <td style=\"padding-left: 1em; padding-right: 1em; text-align: center; vertical-align: top\">UJ0089-R78</td>\n",
       "        <td style=\"padding-left: 1em; padding-right: 1em; text-align: center; vertical-align: top\">F04343</td>\n",
       "    </tr>\n",
       "</table>\n",
       "[5 rows x 14 columns]<br/>\n",
       "</div>"
      ],
      "text/plain": [
       "Columns:\n",
       "\tcustomerKey\tstr\n",
       "\titemKey\tstr\n",
       "\tscore\tfloat\n",
       "\trank\tint\n",
       "\tcustomerName\tstr\n",
       "\tcodMarchio\tstr\n",
       "\titemDescription\tstr\n",
       "\tmarchio\tstr\n",
       "\treparto\tstr\n",
       "\tsesso\tstr\n",
       "\tsport\tstr\n",
       "\ttipo\tstr\n",
       "\tvendorItemNo\tstr\n",
       "\tvendorNo\tstr\n",
       "\n",
       "Rows: 5\n",
       "\n",
       "Data:\n",
       "+-------------------------------+-------------------------------+-----------+------+\n",
       "|          customerKey          |            itemKey            |   score   | rank |\n",
       "+-------------------------------+-------------------------------+-----------+------+\n",
       "| C02282-3A dei F_lli Antoni... | NSW-00000054-3A dei F_lli ... | 0.0333333 |  1   |\n",
       "| C02282-3A dei F_lli Antoni... | NSW-00000108-3A dei F_lli ... |  0.031746 |  2   |\n",
       "| C02282-3A dei F_lli Antoni... | N29-00001331-3A dei F_lli ... |    0.0    |  3   |\n",
       "| C02282-3A dei F_lli Antoni... | N29-00001783-3A dei F_lli ... |    0.0    |  4   |\n",
       "| C02282-3A dei F_lli Antoni... | N29-00002924-3A dei F_lli ... |    0.0    |  5   |\n",
       "+-------------------------------+-------------------------------+-----------+------+\n",
       "+---------------------+------------+------------------------------+\n",
       "|     customerName    | codMarchio |       itemDescription        |\n",
       "+---------------------+------------+------------------------------+\n",
       "| CILLO DI BONI ITALO |    NSW     |     RACERBACK ONE PIECE      |\n",
       "| CILLO DI BONI ITALO |    NSW     |     RACERBACK ONE PIECE      |\n",
       "| CILLO DI BONI ITALO |    C49     |    CTP SHINY SILICONE TEE    |\n",
       "| CILLO DI BONI ITALO |    J11     |         SESSION PACK         |\n",
       "| CILLO DI BONI ITALO |    J11     | AIR JORDAN RETRO 1 HIGH CREW |\n",
       "+---------------------+------------+------------------------------+\n",
       "+-----------------+---------------+--------+--------------+---------+\n",
       "|     marchio     |    reparto    | sesso  |    sport     |   tipo  |\n",
       "+-----------------+---------------+--------+--------------+---------+\n",
       "|    NIKE SWIM    | ABBIGLIAMENTO | DONNA  | PISCINA/MARE | COSTUME |\n",
       "|    NIKE SWIM    | ABBIGLIAMENTO | DONNA  | PISCINA/MARE | COSTUME |\n",
       "| HADDAD CONVERSE | ABBIGLIAMENTO | JUNIOR |   FASHION    | T-SHIRT |\n",
       "|  HADDAD JORDAN  | ABBIGLIAMENTO | JUNIOR |   FASHION    |  ZAINO  |\n",
       "|  HADDAD JORDAN  | ABBIGLIAMENTO | JUNIOR |   FASHION    |  CALZE  |\n",
       "+-----------------+---------------+--------+--------------+---------+\n",
       "+--------------+----------+\n",
       "| vendorItemNo | vendorNo |\n",
       "+--------------+----------+\n",
       "| NESS8074-001 |  F04335  |\n",
       "| NESS8074-580 |  F04335  |\n",
       "|  868096-N3C  |  F04151  |\n",
       "|  9A1985-G3X  |  F04343  |\n",
       "|  UJ0089-R78  |  F04343  |\n",
       "+--------------+----------+\n",
       "[5 rows x 14 columns]"
      ]
     },
     "execution_count": 37,
     "metadata": {},
     "output_type": "execute_result"
    }
   ],
   "source": [
    "result_RP.head(5)"
   ]
  },
  {
   "cell_type": "code",
   "execution_count": null,
   "metadata": {},
   "outputs": [],
   "source": []
  }
 ],
 "metadata": {
  "kernelspec": {
   "display_name": "Python 2",
   "language": "python",
   "name": "python2"
  },
  "language_info": {
   "codemirror_mode": {
    "name": "ipython",
    "version": 2
   },
   "file_extension": ".py",
   "mimetype": "text/x-python",
   "name": "python",
   "nbconvert_exporter": "python",
   "pygments_lexer": "ipython2",
   "version": "2.7.15"
  }
 },
 "nbformat": 4,
 "nbformat_minor": 1
}
